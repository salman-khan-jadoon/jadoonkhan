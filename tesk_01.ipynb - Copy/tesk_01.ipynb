{
 "cells": [
  {
   "cell_type": "code",
   "execution_count": 4,
   "metadata": {},
   "outputs": [
    {
     "name": "stdout",
     "output_type": "stream",
     "text": [
      "maximum_scores: 333\n",
      "maximum_score 333\n",
      "mmanimum score 29\n"
     ]
    }
   ],
   "source": [
    "scores = [32, 54, 67.5, 29, 35, 80, 95, 44.5, 100, 333]\n",
    "maximum_score =max(scores)\n",
    "print(\"maximum_scores:\", maximum_score)\n",
    "\n",
    "scores = [32, 54, 67.5, 29, 35, 80, 95, 44.5, 100, 333]\n",
    "maximum_score =max(scores)\n",
    "print(\"maximum_score\",  maximum_score)\n",
    "manimum_score= min(scores)\n",
    "print(\"mmanimum score\", manimum_score)"
   ]
  },
  {
   "cell_type": "code",
   "execution_count": 7,
   "metadata": {},
   "outputs": [
    {
     "name": "stdout",
     "output_type": "stream",
     "text": [
      "originil  scores: [32, 54, 67.5, 29, 35, 80, 95, 44.5, 100, 65]\n",
      "updating scores: [32, 54, 66, 29, 35, 80, 95, 44.5, 100, 65]\n",
      "originil scores : [32, 54, 67.5, 29, 35, 80, 95, 44.5, 100, 65, 32, 23, 41]\n",
      "updateing score : [32, 54, 999, 29, 35, 80, 95, 44.5, 100, 65, 32, 23, 41]\n"
     ]
    }
   ],
   "source": [
    "scores = [32, 54, 67.5, 29, 35, 80, 95, 44.5, 100, 65]\n",
    "print(\"originil  scores:\", scores)\n",
    "\n",
    "scores[2]= 66\n",
    "print(\"updating scores:\", scores)\n",
    "scores = [32, 54, 67.5, 29, 35, 80, 95, 44.5, 100, 65,32,23,41]\n",
    "print(\"originil scores :\", scores)\n",
    "scores[2]=999\n",
    "print(\"updateing score :\", scores)"
   ]
  },
  {
   "cell_type": "code",
   "execution_count": 12,
   "metadata": {},
   "outputs": [
    {
     "name": "stdout",
     "output_type": "stream",
     "text": [
      "33.5\n",
      "34\n",
      "35\n",
      "36\n",
      "37\n",
      "44\n",
      "33.4\n",
      "55\n",
      "32\n",
      "33.5\n",
      "66\n",
      "34\n",
      "35\n",
      "average temperatures : 37.42857142857143\n"
     ]
    }
   ],
   "source": [
    "temperatures = [32, 33.5, 30, 31.5, 34, 35,36,37]\n",
    "for tem in temperatures:\n",
    "    if tem >32:\n",
    "        print(tem)\n",
    "\n",
    "temperatures=[33,22,44,33.4,11,55]\n",
    "for tem in temperatures:\n",
    "    if tem > 33:\n",
    "        print(tem)\n",
    "temperatures = [32, 33.5, 30, 31.5, 66,34, 35]\n",
    "for tem in temperatures:\n",
    "    if tem >=32:\n",
    "        print(tem)\n",
    "temperatures = [32, 33.5, 30, 31.5, 66,34, 35]\n",
    "total_temperatures=sum(temperatures)\n",
    "average_temperatures=total_temperatures /len(temperatures)\n",
    "print(\"average temperatures :\", average_temperatures)"
   ]
  },
  {
   "cell_type": "code",
   "execution_count": 46,
   "metadata": {},
   "outputs": [
    {
     "name": "stdout",
     "output_type": "stream",
     "text": [
      "sublist_names: ['Baker', 'Charlie', 'Dennis']\n"
     ]
    }
   ],
   "source": [
    "names = [\"Allen\", \"Baker\", \"Charlie\", \"Dennis\", \"Elmo\", \"Fido\", \"Gabriel\"]\n",
    "sublist_names = names[1:4]\n",
    "print(\"sublist_names:\", sublist_names)"
   ]
  },
  {
   "cell_type": "code",
   "execution_count": 38,
   "metadata": {},
   "outputs": [
    {
     "name": "stdout",
     "output_type": "stream",
     "text": [
      "thrid_score: 29\n"
     ]
    }
   ],
   "source": [
    "scores = [32, 54, 67.5, 29, 35, 80, 95, 44.5, 100, 333]\n",
    "thrid_score = scores[3]\n",
    "print(\"thrid_score:\", thrid_score)"
   ]
  },
  {
   "cell_type": "code",
   "execution_count": 30,
   "metadata": {},
   "outputs": [
    {
     "name": "stdout",
     "output_type": "stream",
     "text": [
      "[32, 33.5, 30, 31.5, 34, 35]\n",
      "average_temperatures : 32.666666666666664\n",
      "[33, 44.4, 22, 11.5, 45]\n",
      "average_temperatures: 31.18\n"
     ]
    }
   ],
   "source": [
    "temperatures = [32, 33.5, 30, 31.5, 34, 35]\n",
    "print(temperatures)\n",
    "\n",
    "temperatures = [32, 33.5, 30, 31.5, 34, 35]\n",
    "total_temperatures = sum(temperatures)\n",
    "average_temperatures = total_temperatures / len(temperatures)\n",
    "print(\"average_temperatures :\", average_temperatures)\n",
    "\n",
    "temperatures =[33,44.4,22,11.5,45]\n",
    "print(temperatures)\n",
    "\n",
    "temperatures =[33,44.4,22,11.5,45]\n",
    "total_temperatures =sum(temperatures)\n",
    "average_temperatures = total_temperatures /len(temperatures)\n",
    "print(\"average_temperatures:\", (average_temperatures))\n"
   ]
  },
  {
   "cell_type": "code",
   "execution_count": 13,
   "metadata": {},
   "outputs": [
    {
     "name": "stdout",
     "output_type": "stream",
     "text": [
      "5\n",
      "length 0f my list : 5\n",
      "length of my list : [1, 2, 3, 4, 5]\n",
      "['mango', 'apple', 'banana', 'cherry', 'date']\n",
      "length of my list: ['mango', 'apple', 'banana', 'cherry', 'date']\n",
      "length of my list: 5\n"
     ]
    }
   ],
   "source": [
    "my_list = [1,2,3,4,5,]\n",
    "print(len(my_list))\n",
    "print(\"length 0f my list :\",len(my_list))\n",
    "print(\"length of my list :\", (my_list))\n",
    "\n",
    "fruits = [\"apple\", \"banana\", \"cherry\", \"date\"]\n",
    "# fruits[0]='mango'\n",
    "# fruits.append('mango')\n",
    "fruits.insert(0,\"mango\")\n",
    "print(fruits)\n",
    "print(\"length of my list:\", (fruits))\n",
    "print(\"length of my list:\",len(fruits))\n",
    "\n"
   ]
  },
  {
   "cell_type": "code",
   "execution_count": 12,
   "metadata": {},
   "outputs": [
    {
     "name": "stdout",
     "output_type": "stream",
     "text": [
      "[32, 54, 67.5, 29, 35, 80, 95, 44.5, 100, 65]\n",
      "32\n",
      "54\n",
      "67.5\n",
      "29\n",
      "35\n",
      "80\n",
      "95\n",
      "44.5\n",
      "100\n",
      "65\n"
     ]
    }
   ],
   "source": [
    "scores = [32, 54, 67.5, 29, 35, 80, 95, 44.5, 100, 65]\n",
    "print(scores)\n",
    "\n",
    "scores = [32, 54, 67.5, 29, 35, 80, 95, 44.5, 100, 65]\n",
    "for score in scores:\n",
    "    print(score)"
   ]
  },
  {
   "cell_type": "code",
   "execution_count": null,
   "metadata": {},
   "outputs": [],
   "source": []
  },
  {
   "cell_type": "code",
   "execution_count": 10,
   "metadata": {},
   "outputs": [
    {
     "name": "stdout",
     "output_type": "stream",
     "text": [
      "fromatted topci: ENGLISH  LEARNING\n"
     ]
    }
   ],
   "source": [
    "subjedct=\"english\"\n",
    "topci=\"learning\"\n",
    "fromatted_topci=(subjedct+\"  \"+topci).upper()\n",
    "print(f\"fromatted topci: {fromatted_topci}\")"
   ]
  },
  {
   "cell_type": "markdown",
   "metadata": {},
   "source": [
    "subject=\""
   ]
  },
  {
   "cell_type": "code",
   "execution_count": 8,
   "metadata": {},
   "outputs": [
    {
     "name": "stdout",
     "output_type": "stream",
     "text": [
      "my best unversity:  KARACHI_UNVERSIRY\n",
      "my best unversity:  karachi_unversiry\n"
     ]
    }
   ],
   "source": [
    "universtity_name=\"karachi_unversiry\"\n",
    "upper_name=universtity_name.upper()\n",
    "lower_name=universtity_name.lower()\n",
    "print(f\"my best unversity:  {upper_name}\\nmy best unversity:  {lower_name}\")"
   ]
  },
  {
   "cell_type": "code",
   "execution_count": 5,
   "metadata": {},
   "outputs": [
    {
     "name": "stdout",
     "output_type": "stream",
     "text": [
      "JOHN SIMTH\n",
      "JOHN SIMTH\n",
      "john simth\n"
     ]
    }
   ],
   "source": [
    "name=\"john simth\"\n",
    "print(name.upper())\n",
    "\n",
    "name=\"john simth\"\n",
    "upper_name= name.upper()\n",
    "print(upper_name)\n",
    "\n",
    "name=\"john simth\"\n",
    "upper_name=name.lower()\n",
    "print(upper_name)\n"
   ]
  },
  {
   "cell_type": "code",
   "execution_count": 2,
   "metadata": {},
   "outputs": [
    {
     "name": "stdout",
     "output_type": "stream",
     "text": [
      "year: 2024\n",
      "month: 07\n",
      "day: 07\n",
      "year: 2023\n",
      "month03\n",
      "day:[day]\n"
     ]
    }
   ],
   "source": [
    "deta_string =\"2024-07-07\"\n",
    "year= deta_string[:4]\n",
    "month=deta_string[5:7]\n",
    "day=deta_string[8:]\n",
    "print(f\"year: {year}\\nmonth: {month}\\nday: {day}\")\n",
    "\n",
    "deta_string=\"2023-03-09\"\n",
    "year=deta_string[:4]\n",
    "month=deta_string[5:7]\n",
    "day=deta_string[8:]\n",
    "print(f\"year: {year}\\nmonth{month}\\nday:[day]\")\n"
   ]
  },
  {
   "cell_type": "code",
   "execution_count": null,
   "metadata": {},
   "outputs": [],
   "source": []
  }
 ],
 "metadata": {
  "kernelspec": {
   "display_name": "Python 3",
   "language": "python",
   "name": "python3"
  },
  "language_info": {
   "codemirror_mode": {
    "name": "ipython",
    "version": 3
   },
   "file_extension": ".py",
   "mimetype": "text/x-python",
   "name": "python",
   "nbconvert_exporter": "python",
   "pygments_lexer": "ipython3",
   "version": "3.12.4"
  }
 },
 "nbformat": 4,
 "nbformat_minor": 2
}
