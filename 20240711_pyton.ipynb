{
 "cells": [
  {
   "cell_type": "code",
   "execution_count": null,
   "metadata": {},
   "outputs": [],
   "source": [
    "# Dictionary with initial values\n",
    "person = {'name': 'Musa','age': 30,'city': 'Lahore'}"
   ]
  },
  {
   "cell_type": "code",
   "execution_count": null,
   "metadata": {},
   "outputs": [],
   "source": [
    "print(person)"
   ]
  },
  {
   "cell_type": "code",
   "execution_count": null,
   "metadata": {},
   "outputs": [],
   "source": [
    "print(person['age'])"
   ]
  },
  {
   "cell_type": "code",
   "execution_count": null,
   "metadata": {},
   "outputs": [],
   "source": [
    "person['Role'] = \"Student\"\n",
    "person"
   ]
  },
  {
   "cell_type": "markdown",
   "metadata": {},
   "source": [
    "### Deleting a key"
   ]
  },
  {
   "cell_type": "code",
   "execution_count": null,
   "metadata": {},
   "outputs": [],
   "source": [
    "del person['city']\n",
    "person"
   ]
  },
  {
   "cell_type": "code",
   "execution_count": null,
   "metadata": {},
   "outputs": [],
   "source": [
    "alien_0 = {'color': 'green', 'points': 5}\n",
    "print(alien_0['color'])\n",
    "print(alien_0['points'])"
   ]
  },
  {
   "cell_type": "code",
   "execution_count": null,
   "metadata": {},
   "outputs": [],
   "source": [
    "alien_0 = {'color': 'green', 'points': 5}\n",
    "print(alien_0)\n",
    "\n",
    "del alien_0['points']\n",
    "print(alien_0)"
   ]
  },
  {
   "cell_type": "code",
   "execution_count": null,
   "metadata": {},
   "outputs": [],
   "source": [
    "alien_0"
   ]
  },
  {
   "cell_type": "code",
   "execution_count": null,
   "metadata": {},
   "outputs": [],
   "source": [
    "alien_0['MyKey']=\"New Value\""
   ]
  },
  {
   "cell_type": "code",
   "execution_count": null,
   "metadata": {},
   "outputs": [],
   "source": [
    "alien_0"
   ]
  },
  {
   "cell_type": "code",
   "execution_count": null,
   "metadata": {},
   "outputs": [],
   "source": [
    "alien_0['x_position'] = 0\n",
    "alien_0['y_position'] = 25\n",
    "print(alien_0)"
   ]
  },
  {
   "cell_type": "markdown",
   "metadata": {},
   "source": [
    "### Same process again from start"
   ]
  },
  {
   "cell_type": "code",
   "execution_count": null,
   "metadata": {},
   "outputs": [],
   "source": [
    "alien_0 = {}\n",
    "\n",
    "print(alien_0)"
   ]
  },
  {
   "cell_type": "code",
   "execution_count": null,
   "metadata": {},
   "outputs": [],
   "source": [
    "alien_0['color'] = 'green'\n",
    "print(alien_0)"
   ]
  },
  {
   "cell_type": "code",
   "execution_count": null,
   "metadata": {},
   "outputs": [],
   "source": [
    "alien_0['points'] = 5\n",
    "print(alien_0)"
   ]
  },
  {
   "cell_type": "code",
   "execution_count": null,
   "metadata": {},
   "outputs": [],
   "source": [
    "alien_0['color'] = 'yellow'\n",
    "print(alien_0)"
   ]
  },
  {
   "cell_type": "markdown",
   "metadata": {},
   "source": [
    "### Adding more attributes"
   ]
  },
  {
   "cell_type": "code",
   "execution_count": 1,
   "metadata": {},
   "outputs": [
    {
     "name": "stdout",
     "output_type": "stream",
     "text": [
      "Original position: 0\n"
     ]
    }
   ],
   "source": [
    "alien_0 = {'x_position': 0, 'y_position': 25, 'speed': 'medium'}\n",
    "print(f\"Original position: {alien_0['x_position']}\")"
   ]
  },
  {
   "cell_type": "code",
   "execution_count": null,
   "metadata": {},
   "outputs": [],
   "source": [
    "alien_0['x_position'] = 1\n",
    "alien_0"
   ]
  },
  {
   "cell_type": "code",
   "execution_count": null,
   "metadata": {},
   "outputs": [],
   "source": [
    "alien_0['speed'] = 'slow'\n",
    "alien_0"
   ]
  },
  {
   "cell_type": "code",
   "execution_count": 2,
   "metadata": {},
   "outputs": [
    {
     "data": {
      "text/plain": [
       "{'x_position': 2, 'y_position': 25, 'speed': 'medium'}"
      ]
     },
     "execution_count": 2,
     "metadata": {},
     "output_type": "execute_result"
    }
   ],
   "source": [
    "if alien_0['speed'] == 'slow':\n",
    "    x_increment = 1\n",
    "elif alien_0['speed'] == 'medium':\n",
    "    x_increment = 2\n",
    "else:\n",
    "    x_increment = 3\n",
    "\n",
    "alien_0['x_position'] = alien_0['x_position'] + x_increment\n",
    "\n",
    "alien_0\n"
   ]
  },
  {
   "cell_type": "markdown",
   "metadata": {},
   "source": [
    "### Another example"
   ]
  },
  {
   "cell_type": "code",
   "execution_count": 25,
   "metadata": {},
   "outputs": [
    {
     "data": {
      "text/plain": [
       "{'jen': 'python', 'sarah': 'c', 'edward': 'ruby', 'phil': 'python'}"
      ]
     },
     "execution_count": 25,
     "metadata": {},
     "output_type": "execute_result"
    }
   ],
   "source": [
    "favorite_languages = {\n",
    "    'jen': 'python',\n",
    "    'sarah': 'c',\n",
    "    'edward': 'ruby',\n",
    "    'phil': 'python',\n",
    "    }\n",
    "\n",
    "favorite_languages"
   ]
  },
  {
   "cell_type": "code",
   "execution_count": 26,
   "metadata": {},
   "outputs": [
    {
     "name": "stdout",
     "output_type": "stream",
     "text": [
      "python\n"
     ]
    }
   ],
   "source": [
    "print(favorite_languages['jen'])"
   ]
  },
  {
   "cell_type": "markdown",
   "metadata": {},
   "source": [
    "### Iterating dictionaries"
   ]
  },
  {
   "cell_type": "code",
   "execution_count": 27,
   "metadata": {},
   "outputs": [
    {
     "name": "stdout",
     "output_type": "stream",
     "text": [
      "('jen', 'python')\n",
      "('sarah', 'c')\n",
      "('edward', 'ruby')\n",
      "('phil', 'python')\n"
     ]
    }
   ],
   "source": [
    "for k in favorite_languages.items():\n",
    "    print(k)"
   ]
  },
  {
   "cell_type": "code",
   "execution_count": 28,
   "metadata": {},
   "outputs": [
    {
     "name": "stdout",
     "output_type": "stream",
     "text": [
      "('jen', 'python')\n",
      "('sarah', 'c')\n",
      "('edward', 'ruby')\n",
      "('phil', 'python')\n"
     ]
    }
   ],
   "source": [
    "for x in favorite_languages.items():\n",
    "    print(x)"
   ]
  },
  {
   "cell_type": "code",
   "execution_count": 30,
   "metadata": {},
   "outputs": [
    {
     "name": "stdout",
     "output_type": "stream",
     "text": [
      "jen\n",
      "sarah\n",
      "edward\n",
      "phil\n"
     ]
    }
   ],
   "source": [
    "for x,y in favorite_languages.items():\n",
    "    print(x)"
   ]
  },
  {
   "cell_type": "code",
   "execution_count": 33,
   "metadata": {},
   "outputs": [
    {
     "ename": "ValueError",
     "evalue": "too many values to unpack (expected 2)",
     "output_type": "error",
     "traceback": [
      "\u001b[1;31m---------------------------------------------------------------------------\u001b[0m",
      "\u001b[1;31mValueError\u001b[0m                                Traceback (most recent call last)",
      "Cell \u001b[1;32mIn[33], line 1\u001b[0m\n\u001b[1;32m----> 1\u001b[0m \u001b[38;5;28;01mfor\u001b[39;00m x,y \u001b[38;5;129;01min\u001b[39;00m favorite_languages:\n\u001b[0;32m      2\u001b[0m     \u001b[38;5;28mprint\u001b[39m(y)\n",
      "\u001b[1;31mValueError\u001b[0m: too many values to unpack (expected 2)"
     ]
    }
   ],
   "source": [
    "for x,y in favorite_languages.items():\n",
    "    print(y)"
   ]
  },
  {
   "cell_type": "code",
   "execution_count": 32,
   "metadata": {},
   "outputs": [
    {
     "data": {
      "text/plain": [
       "{'jen': 'python', 'sarah': 'c', 'edward': 'ruby', 'phil': 'python'}"
      ]
     },
     "execution_count": 32,
     "metadata": {},
     "output_type": "execute_result"
    }
   ],
   "source": [
    "favorite_languages"
   ]
  },
  {
   "cell_type": "code",
   "execution_count": 1,
   "metadata": {},
   "outputs": [
    {
     "ename": "NameError",
     "evalue": "name 'favorite_languages' is not defined",
     "output_type": "error",
     "traceback": [
      "\u001b[1;31m---------------------------------------------------------------------------\u001b[0m",
      "\u001b[1;31mNameError\u001b[0m                                 Traceback (most recent call last)",
      "Cell \u001b[1;32mIn[1], line 1\u001b[0m\n\u001b[1;32m----> 1\u001b[0m \u001b[38;5;28;01mfor\u001b[39;00m name, language \u001b[38;5;129;01min\u001b[39;00m \u001b[43mfavorite_languages\u001b[49m\u001b[38;5;241m.\u001b[39mitems():\n\u001b[0;32m      2\u001b[0m     \u001b[38;5;28mprint\u001b[39m(\u001b[38;5;124mf\u001b[39m\u001b[38;5;124m\"\u001b[39m\u001b[38;5;132;01m{\u001b[39;00mname\u001b[38;5;241m.\u001b[39mtitle()\u001b[38;5;132;01m}\u001b[39;00m\u001b[38;5;124m'\u001b[39m\u001b[38;5;124ms favorite language is \u001b[39m\u001b[38;5;132;01m{\u001b[39;00mlanguage\u001b[38;5;241m.\u001b[39mtitle()\u001b[38;5;132;01m}\u001b[39;00m\u001b[38;5;124m.\u001b[39m\u001b[38;5;124m\"\u001b[39m)\n",
      "\u001b[1;31mNameError\u001b[0m: name 'favorite_languages' is not defined"
     ]
    }
   ],
   "source": [
    "for name, language in favorite_languages.items():\n",
    "    print(f\"{name.title()}'s favorite language is {language.title()}.\")"
   ]
  },
  {
   "cell_type": "code",
   "execution_count": 3,
   "metadata": {},
   "outputs": [
    {
     "name": "stdout",
     "output_type": "stream",
     "text": [
      "\n",
      "Key: username\n",
      "Value: efermi\n",
      "\n",
      "Key: first\n",
      "Value: enrico\n",
      "\n",
      "Key: last\n",
      "Value: fermi\n"
     ]
    }
   ],
   "source": [
    "user_0 = {\n",
    "    'username': 'efermi',\n",
    "    'first': 'enrico',\n",
    "    'last': 'fermi',\n",
    "    }\n",
    "for key, value in user_0.items():\n",
    "    print(f\"\\nKey: {key}\")\n",
    "    print(f\"Value: {value}\")"
   ]
  },
  {
   "cell_type": "code",
   "execution_count": null,
   "metadata": {},
   "outputs": [],
   "source": []
  },
  {
   "cell_type": "code",
   "execution_count": null,
   "metadata": {},
   "outputs": [],
   "source": [
    "user_0 = {\n",
    "    'username': 'efermi',\n",
    "    'first': 'enrico',\n",
    "    'last': 'fermi',\n",
    "    }\n",
    "\n",
    "for key, value in user_0.items():\n",
    "    print(f\"\\nKey: {key}\")\n",
    "    print(f\"Value: {value}\")"
   ]
  },
  {
   "cell_type": "code",
   "execution_count": 35,
   "metadata": {},
   "outputs": [
    {
     "name": "stdout",
     "output_type": "stream",
     "text": [
      "\n",
      "Jen's favorite languages are:\n",
      "\tPython\n",
      "\tRust\n",
      "\n",
      "Sarah's favorite languages are:\n",
      "\tC\n",
      "\n",
      "Edward's favorite languages are:\n",
      "\tRust\n",
      "\tGo\n",
      "\n",
      "Phil's favorite languages are:\n",
      "\tPython\n",
      "\tHaskell\n"
     ]
    }
   ],
   "source": [
    "favorite_languages = {\n",
    "      'jen': ['python', 'rust'],\n",
    "      'sarah': ['c'],\n",
    "      'edward': ['rust', 'go'],\n",
    "      'phil': ['python', 'haskell'],\n",
    "      }\n",
    "\n",
    "for name, languages in favorite_languages.items():\n",
    "    print(f\"\\n{name.title()}'s favorite languages are:\")\n",
    "    for language in languages:\n",
    "        print(f\"\\t{language.title()}\")"
   ]
  },
  {
   "cell_type": "code",
   "execution_count": 39,
   "metadata": {},
   "outputs": [
    {
     "data": {
      "text/plain": [
       "[{'color': 'green', 'points': 5, 'speed': 'slow'},\n",
       " {'color': 'green', 'points': 5, 'speed': 'slow'},\n",
       " {'color': 'green', 'points': 5, 'speed': 'slow'},\n",
       " {'color': 'green', 'points': 5, 'speed': 'slow'},\n",
       " {'color': 'green', 'points': 5, 'speed': 'slow'},\n",
       " {'color': 'green', 'points': 5, 'speed': 'slow'},\n",
       " {'color': 'green', 'points': 5, 'speed': 'slow'},\n",
       " {'color': 'green', 'points': 5, 'speed': 'slow'},\n",
       " {'color': 'green', 'points': 5, 'speed': 'slow'},\n",
       " {'color': 'green', 'points': 5, 'speed': 'slow'},\n",
       " {'color': 'green', 'points': 5, 'speed': 'slow'},\n",
       " {'color': 'green', 'points': 5, 'speed': 'slow'},\n",
       " {'color': 'green', 'points': 5, 'speed': 'slow'},\n",
       " {'color': 'green', 'points': 5, 'speed': 'slow'},\n",
       " {'color': 'green', 'points': 5, 'speed': 'slow'},\n",
       " {'color': 'green', 'points': 5, 'speed': 'slow'},\n",
       " {'color': 'green', 'points': 5, 'speed': 'slow'},\n",
       " {'color': 'green', 'points': 5, 'speed': 'slow'},\n",
       " {'color': 'green', 'points': 5, 'speed': 'slow'},\n",
       " {'color': 'green', 'points': 5, 'speed': 'slow'},\n",
       " {'color': 'green', 'points': 5, 'speed': 'slow'},\n",
       " {'color': 'green', 'points': 5, 'speed': 'slow'},\n",
       " {'color': 'green', 'points': 5, 'speed': 'slow'},\n",
       " {'color': 'green', 'points': 5, 'speed': 'slow'},\n",
       " {'color': 'green', 'points': 5, 'speed': 'slow'},\n",
       " {'color': 'green', 'points': 5, 'speed': 'slow'},\n",
       " {'color': 'green', 'points': 5, 'speed': 'slow'},\n",
       " {'color': 'green', 'points': 5, 'speed': 'slow'},\n",
       " {'color': 'green', 'points': 5, 'speed': 'slow'},\n",
       " {'color': 'green', 'points': 5, 'speed': 'slow'}]"
      ]
     },
     "execution_count": 39,
     "metadata": {},
     "output_type": "execute_result"
    }
   ],
   "source": [
    "# Make an empty list for storing aliens.\n",
    "aliens = []\n",
    "\n",
    "# Make 30 green aliens.\n",
    "for alien_number in range(30):\n",
    "    new_alien = {'color': 'green', 'points': 5, 'speed': 'slow'}\n",
    "    aliens.append(new_alien)\n",
    "\n",
    "aliens"
   ]
  },
  {
   "cell_type": "code",
   "execution_count": 46,
   "metadata": {},
   "outputs": [
    {
     "data": {
      "text/plain": [
       "[{'color': 'green', 'points': 5, 'speed': 'slow'},\n",
       " {'color': 'green', 'points': 5, 'speed': 'slow'},\n",
       " {'color': 'green', 'points': 5, 'speed': 'slow'},\n",
       " {'color': 'green', 'points': 5, 'speed': 'slow'},\n",
       " {'color': 'green', 'points': 5, 'speed': 'slow'},\n",
       " {'color': 'green', 'points': 5, 'speed': 'slow'},\n",
       " {'color': 'green', 'points': 5, 'speed': 'slow'},\n",
       " {'color': 'green', 'points': 5, 'speed': 'slow'},\n",
       " {'color': 'green', 'points': 5, 'speed': 'slow'},\n",
       " {'color': 'green', 'points': 5, 'speed': 'slow'},\n",
       " {'color': 'green', 'points': 5, 'speed': 'slow'},\n",
       " {'color': 'green', 'points': 5, 'speed': 'slow'},\n",
       " {'color': 'green', 'points': 5, 'speed': 'slow'},\n",
       " {'color': 'green', 'points': 5, 'speed': 'slow'},\n",
       " {'color': 'green', 'points': 5, 'speed': 'slow'},\n",
       " {'color': 'green', 'points': 5, 'speed': 'slow'},\n",
       " {'color': 'green', 'points': 5, 'speed': 'slow'},\n",
       " {'color': 'green', 'points': 5, 'speed': 'slow'},\n",
       " {'color': 'green', 'points': 5, 'speed': 'slow'},\n",
       " {'color': 'green', 'points': 5, 'speed': 'slow'},\n",
       " {'color': 'green', 'points': 5, 'speed': 'slow'},\n",
       " {'color': 'green', 'points': 5, 'speed': 'slow'},\n",
       " {'color': 'green', 'points': 5, 'speed': 'slow'},\n",
       " {'color': 'green', 'points': 5, 'speed': 'slow'},\n",
       " {'color': 'green', 'points': 5, 'speed': 'slow'},\n",
       " {'color': 'green', 'points': 5, 'speed': 'slow'},\n",
       " {'color': 'green', 'points': 5, 'speed': 'slow'},\n",
       " {'color': 'green', 'points': 5, 'speed': 'slow'},\n",
       " {'color': 'green', 'points': 5, 'speed': 'slow'},\n",
       " {'color': 'green', 'points': 5, 'speed': 'slow'}]"
      ]
     },
     "execution_count": 46,
     "metadata": {},
     "output_type": "execute_result"
    }
   ],
   "source": [
    "# Make an empty list for storing aliens.\n",
    "aliens = []\n",
    "\n",
    "# Make 30 green aliens.\n",
    "for alien_number in range(30):\n",
    "    new_alien = {'color': 'green', 'points': 5, 'speed': 'slow'}\n",
    "    aliens.append(new_alien)\n",
    "\n",
    "\n",
    "\n",
    "aliens"
   ]
  },
  {
   "cell_type": "code",
   "execution_count": 47,
   "metadata": {},
   "outputs": [
    {
     "data": {
      "text/plain": [
       "[{'color': 'yellow', 'points': 10, 'speed': 'medium'},\n",
       " {'color': 'yellow', 'points': 10, 'speed': 'medium'},\n",
       " {'color': 'yellow', 'points': 10, 'speed': 'medium'},\n",
       " {'color': 'green', 'points': 5, 'speed': 'slow'},\n",
       " {'color': 'green', 'points': 5, 'speed': 'slow'},\n",
       " {'color': 'green', 'points': 5, 'speed': 'slow'},\n",
       " {'color': 'green', 'points': 5, 'speed': 'slow'},\n",
       " {'color': 'green', 'points': 5, 'speed': 'slow'},\n",
       " {'color': 'green', 'points': 5, 'speed': 'slow'},\n",
       " {'color': 'green', 'points': 5, 'speed': 'slow'},\n",
       " {'color': 'green', 'points': 5, 'speed': 'slow'},\n",
       " {'color': 'green', 'points': 5, 'speed': 'slow'},\n",
       " {'color': 'green', 'points': 5, 'speed': 'slow'},\n",
       " {'color': 'green', 'points': 5, 'speed': 'slow'},\n",
       " {'color': 'green', 'points': 5, 'speed': 'slow'},\n",
       " {'color': 'green', 'points': 5, 'speed': 'slow'},\n",
       " {'color': 'green', 'points': 5, 'speed': 'slow'},\n",
       " {'color': 'green', 'points': 5, 'speed': 'slow'},\n",
       " {'color': 'green', 'points': 5, 'speed': 'slow'},\n",
       " {'color': 'green', 'points': 5, 'speed': 'slow'},\n",
       " {'color': 'green', 'points': 5, 'speed': 'slow'},\n",
       " {'color': 'green', 'points': 5, 'speed': 'slow'},\n",
       " {'color': 'green', 'points': 5, 'speed': 'slow'},\n",
       " {'color': 'green', 'points': 5, 'speed': 'slow'},\n",
       " {'color': 'green', 'points': 5, 'speed': 'slow'},\n",
       " {'color': 'green', 'points': 5, 'speed': 'slow'},\n",
       " {'color': 'green', 'points': 5, 'speed': 'slow'},\n",
       " {'color': 'green', 'points': 5, 'speed': 'slow'},\n",
       " {'color': 'green', 'points': 5, 'speed': 'slow'},\n",
       " {'color': 'green', 'points': 5, 'speed': 'slow'}]"
      ]
     },
     "execution_count": 47,
     "metadata": {},
     "output_type": "execute_result"
    }
   ],
   "source": [
    "for alien in aliens[:3]:\n",
    "    if alien['color'] == 'green':\n",
    "        alien['color'] = 'yellow'\n",
    "        alien['speed'] = 'medium'\n",
    "        alien['points'] = 10\n",
    "\n",
    "aliens"
   ]
  },
  {
   "cell_type": "code",
   "execution_count": 48,
   "metadata": {},
   "outputs": [
    {
     "data": {
      "text/plain": [
       "[{'color': 'yellow', 'points': 10, 'speed': 'medium'},\n",
       " {'color': 'yellow', 'points': 10, 'speed': 'medium'},\n",
       " {'color': 'yellow', 'points': 10, 'speed': 'medium'},\n",
       " {'color': 'yellow', 'points': 38, 'speed': 'medium'},\n",
       " {'color': 'yellow', 'points': 38, 'speed': 'medium'},\n",
       " {'color': 'yellow', 'points': 38, 'speed': 'medium'},\n",
       " {'color': 'yellow', 'points': 38, 'speed': 'medium'},\n",
       " {'color': 'yellow', 'points': 38, 'speed': 'medium'},\n",
       " {'color': 'green', 'points': 5, 'speed': 'slow'},\n",
       " {'color': 'green', 'points': 5, 'speed': 'slow'},\n",
       " {'color': 'green', 'points': 5, 'speed': 'slow'},\n",
       " {'color': 'green', 'points': 5, 'speed': 'slow'},\n",
       " {'color': 'green', 'points': 5, 'speed': 'slow'},\n",
       " {'color': 'green', 'points': 5, 'speed': 'slow'},\n",
       " {'color': 'green', 'points': 5, 'speed': 'slow'},\n",
       " {'color': 'green', 'points': 5, 'speed': 'slow'},\n",
       " {'color': 'green', 'points': 5, 'speed': 'slow'},\n",
       " {'color': 'green', 'points': 5, 'speed': 'slow'},\n",
       " {'color': 'green', 'points': 5, 'speed': 'slow'},\n",
       " {'color': 'green', 'points': 5, 'speed': 'slow'},\n",
       " {'color': 'green', 'points': 5, 'speed': 'slow'},\n",
       " {'color': 'green', 'points': 5, 'speed': 'slow'},\n",
       " {'color': 'green', 'points': 5, 'speed': 'slow'},\n",
       " {'color': 'green', 'points': 5, 'speed': 'slow'},\n",
       " {'color': 'green', 'points': 5, 'speed': 'slow'},\n",
       " {'color': 'green', 'points': 5, 'speed': 'slow'},\n",
       " {'color': 'green', 'points': 5, 'speed': 'slow'},\n",
       " {'color': 'green', 'points': 5, 'speed': 'slow'},\n",
       " {'color': 'green', 'points': 5, 'speed': 'slow'},\n",
       " {'color': 'green', 'points': 5, 'speed': 'slow'}]"
      ]
     },
     "execution_count": 48,
     "metadata": {},
     "output_type": "execute_result"
    }
   ],
   "source": [
    "for alien in aliens[3:8]:\n",
    "    if alien['color'] == 'green':\n",
    "        alien['color'] = 'yellow'\n",
    "        alien['speed'] = 'medium'\n",
    "        alien['points'] = 38\n",
    "aliens"
   ]
  },
  {
   "cell_type": "code",
   "execution_count": null,
   "metadata": {},
   "outputs": [],
   "source": [
    "# Make an empty list for storing aliens.\n",
    "aliens = []\n",
    "\n",
    "# Make 30 green aliens.\n",
    "for alien_number in range(30):\n",
    "    new_alien = {'color': 'green', 'points': 5, 'speed': 'slow'}\n",
    "    aliens.append(new_alien)\n",
    "\n",
    "for alien in aliens[:3]:\n",
    "    if alien['color'] == 'green':\n",
    "        alien['color'] = 'yellow'\n",
    "        alien['speed'] = 'medium'\n",
    "        alien['points'] = 10\n",
    "\n",
    "# Show the first 5 aliens.\n",
    "for alien in aliens[:5]:\n",
    "    print(alien)\n",
    "print(\"...\")\n",
    "\n",
    "# Show how many aliens have been created.\n",
    "print(f\"Total number of aliens: {len(aliens)}\")"
   ]
  },
  {
   "cell_type": "code",
   "execution_count": 49,
   "metadata": {},
   "outputs": [],
   "source": [
    "users = {\n",
    "    'aeinstein': {\n",
    "        'first': 'albert',\n",
    "        'last': 'einstein',\n",
    "        'location': 'princeton',\n",
    "        },\n",
    "\n",
    "    'mcurie': {\n",
    "        'first': 'marie',\n",
    "        'last': 'curie',\n",
    "        'location': 'paris',\n",
    "        },\n",
    "\n",
    "    }"
   ]
  },
  {
   "cell_type": "code",
   "execution_count": 51,
   "metadata": {},
   "outputs": [
    {
     "name": "stdout",
     "output_type": "stream",
     "text": [
      "{'first': 'albert', 'last': 'einstein', 'location': 'princeton'}\n",
      "{'first': 'marie', 'last': 'curie', 'location': 'paris'}\n"
     ]
    }
   ],
   "source": [
    "for k,v in users.items():\n",
    "    print(v)"
   ]
  },
  {
   "cell_type": "code",
   "execution_count": 52,
   "metadata": {},
   "outputs": [
    {
     "name": "stdout",
     "output_type": "stream",
     "text": [
      "\n",
      "Username: aeinstein\n",
      "\tFull name: Albert Einstein\n",
      "\tLocation: Princeton\n",
      "\n",
      "Username: mcurie\n",
      "\tFull name: Marie Curie\n",
      "\tLocation: Paris\n"
     ]
    }
   ],
   "source": [
    "users = {\n",
    "    'aeinstein': {\n",
    "        'first': 'albert',\n",
    "        'last': 'einstein',\n",
    "        'location': 'princeton',\n",
    "        },\n",
    "\n",
    "    'mcurie': {\n",
    "        'first': 'marie',\n",
    "        'last': 'curie',\n",
    "        'location': 'paris',\n",
    "        },\n",
    "\n",
    "    }\n",
    "\n",
    "for username, user_info in users.items():\n",
    "    print(f\"\\nUsername: {username}\")\n",
    "    full_name = f\"{user_info['first']} {user_info['last']}\"\n",
    "    location = user_info['location']\n",
    "    \n",
    "    print(f\"\\tFull name: {full_name.title()}\")\n",
    "    print(f\"\\tLocation: {location.title()}\")"
   ]
  },
  {
   "cell_type": "code",
   "execution_count": null,
   "metadata": {},
   "outputs": [],
   "source": [
    "dic = {\"number\": 1, \"name_english\": \"Al-Fatiha\", \"name_urdu\": \"الفاتحہ\", \"number_of_verses\": 7}"
   ]
  },
  {
   "cell_type": "code",
   "execution_count": null,
   "metadata": {},
   "outputs": [],
   "source": [
    "dic['number_of_verses']"
   ]
  },
  {
   "cell_type": "code",
   "execution_count": null,
   "metadata": {},
   "outputs": [],
   "source": [
    "surah_info[35]['name_urdu']"
   ]
  },
  {
   "cell_type": "code",
   "execution_count": null,
   "metadata": {},
   "outputs": [],
   "source": [
    "# Access the first surah\n",
    "first_surah = surah_info[36]\n",
    "print(f\"Surah Number: {first_surah['number']}\")\n",
    "print(f\"English Name: {first_surah['name_english']}\")\n",
    "print(f\"Urdu Name: {first_surah['name_urdu']}\")\n",
    "print(f\"Number of Verses: {first_surah['number_of_verses']}\")"
   ]
  },
  {
   "cell_type": "code",
   "execution_count": null,
   "metadata": {},
   "outputs": [],
   "source": [
    "for surah in surah_info:\n",
    "    print(surah['name_english'],surah['name_urdu'])"
   ]
  },
  {
   "cell_type": "code",
   "execution_count": 34,
   "metadata": {},
   "outputs": [
    {
     "ename": "AttributeError",
     "evalue": "'list' object has no attribute 'items'",
     "output_type": "error",
     "traceback": [
      "\u001b[1;31m---------------------------------------------------------------------------\u001b[0m",
      "\u001b[1;31mAttributeError\u001b[0m                            Traceback (most recent call last)",
      "Cell \u001b[1;32mIn[34], line 1\u001b[0m\n\u001b[1;32m----> 1\u001b[0m \u001b[38;5;28;01mfor\u001b[39;00m x,y \u001b[38;5;129;01min\u001b[39;00m \u001b[43msurah_info\u001b[49m\u001b[38;5;241;43m.\u001b[39;49m\u001b[43mitems\u001b[49m():\n\u001b[0;32m      2\u001b[0m     \u001b[38;5;28mprint\u001b[39m(y)\n",
      "\u001b[1;31mAttributeError\u001b[0m: 'list' object has no attribute 'items'"
     ]
    }
   ],
   "source": []
  },
  {
   "cell_type": "code",
   "execution_count": null,
   "metadata": {},
   "outputs": [],
   "source": [
    "surah_info = [\n",
    "    {\"number\": 1, \"name_english\": \"Al-Fatiha\", \"name_urdu\": \"الفاتحہ\", \"number_of_verses\": 7},\n",
    "    {\"number\": 2, \"name_english\": \"Al-Baqara\", \"name_urdu\": \"البقرہ\", \"number_of_verses\": 286},\n",
    "    {\"number\": 3, \"name_english\": \"Aal-E-Imran\", \"name_urdu\": \"آل عمران\", \"number_of_verses\": 200},\n",
    "    {\"number\": 4, \"name_english\": \"An-Nisa\", \"name_urdu\": \"النساء\", \"number_of_verses\": 176},\n",
    "    {\"number\": 5, \"name_english\": \"Al-Ma'idah\", \"name_urdu\": \"المائدہ\", \"number_of_verses\": 120},\n",
    "    {\"number\": 6, \"name_english\": \"Al-An'am\", \"name_urdu\": \"الانعام\", \"number_of_verses\": 165},\n",
    "    {\"number\": 7, \"name_english\": \"Al-A'raf\", \"name_urdu\": \"الاعراف\", \"number_of_verses\": 206},\n",
    "    {\"number\": 8, \"name_english\": \"Al-Anfal\", \"name_urdu\": \"الانفال\", \"number_of_verses\": 75},\n",
    "    {\"number\": 9, \"name_english\": \"At-Tawbah\", \"name_urdu\": \"التوبہ\", \"number_of_verses\": 129},\n",
    "    {\"number\": 10, \"name_english\": \"Yunus\", \"name_urdu\": \"یونس\", \"number_of_verses\": 109},\n",
    "    {\"number\": 11, \"name_english\": \"Hud\", \"name_urdu\": \"ہود\", \"number_of_verses\": 123},\n",
    "    {\"number\": 12, \"name_english\": \"Yusuf\", \"name_urdu\": \"یوسف\", \"number_of_verses\": 111},\n",
    "    {\"number\": 13, \"name_english\": \"Ar-Ra'd\", \"name_urdu\": \"الرعد\", \"number_of_verses\": 43},\n",
    "    {\"number\": 14, \"name_english\": \"Ibrahim\", \"name_urdu\": \"ابراہیم\", \"number_of_verses\": 52},\n",
    "    {\"number\": 15, \"name_english\": \"Al-Hijr\", \"name_urdu\": \"الحجر\", \"number_of_verses\": 99},\n",
    "    {\"number\": 16, \"name_english\": \"An-Nahl\", \"name_urdu\": \"النحل\", \"number_of_verses\": 128},\n",
    "    {\"number\": 17, \"name_english\": \"Al-Isra\", \"name_urdu\": \"بنی اسرائیل\", \"number_of_verses\": 111},\n",
    "    {\"number\": 18, \"name_english\": \"Al-Kahf\", \"name_urdu\": \"الکہف\", \"number_of_verses\": 110},\n",
    "    {\"number\": 19, \"name_english\": \"Maryam\", \"name_urdu\": \"مریم\", \"number_of_verses\": 98},\n",
    "    {\"number\": 20, \"name_english\": \"Ta-Ha\", \"name_urdu\": \"طٰہٰ\", \"number_of_verses\": 135},\n",
    "    {\"number\": 21, \"name_english\": \"Al-Anbiya\", \"name_urdu\": \"الانبیا\", \"number_of_verses\": 112},\n",
    "    {\"number\": 22, \"name_english\": \"Al-Hajj\", \"name_urdu\": \"الحج\", \"number_of_verses\": 78},\n",
    "    {\"number\": 23, \"name_english\": \"Al-Mu'minun\", \"name_urdu\": \"المؤمنون\", \"number_of_verses\": 118},\n",
    "    {\"number\": 24, \"name_english\": \"An-Nur\", \"name_urdu\": \"النور\", \"number_of_verses\": 64},\n",
    "    {\"number\": 25, \"name_english\": \"Al-Furqan\", \"name_urdu\": \"الفرقان\", \"number_of_verses\": 77},\n",
    "    {\"number\": 26, \"name_english\": \"Ash-Shu'ara\", \"name_urdu\": \"الشعراء\", \"number_of_verses\": 227},\n",
    "    {\"number\": 27, \"name_english\": \"An-Naml\", \"name_urdu\": \"النمل\", \"number_of_verses\": 93},\n",
    "    {\"number\": 28, \"name_english\": \"Al-Qasas\", \"name_urdu\": \"القصص\", \"number_of_verses\": 88},\n",
    "    {\"number\": 29, \"name_english\": \"Al-Ankabut\", \"name_urdu\": \"العنکبوت\", \"number_of_verses\": 69},\n",
    "    {\"number\": 30, \"name_english\": \"Ar-Rum\", \"name_urdu\": \"الروم\", \"number_of_verses\": 60},\n",
    "    {\"number\": 31, \"name_english\": \"Luqman\", \"name_urdu\": \"لقمان\", \"number_of_verses\": 34},\n",
    "    {\"number\": 32, \"name_english\": \"As-Sajda\", \"name_urdu\": \"السجدہ\", \"number_of_verses\": 30},\n",
    "    {\"number\": 33, \"name_english\": \"Al-Ahzab\", \"name_urdu\": \"الاحزاب\", \"number_of_verses\": 73},\n",
    "    {\"number\": 34, \"name_english\": \"Saba\", \"name_urdu\": \"سبا\", \"number_of_verses\": 54},\n",
    "    {\"number\": 35, \"name_english\": \"Fatir\", \"name_urdu\": \"فاطر\", \"number_of_verses\": 45},\n",
    "    {\"number\": 36, \"name_english\": \"Ya-Sin\", \"name_urdu\": \"یٰس\", \"number_of_verses\": 83},\n",
    "    {\"number\": 37, \"name_english\": \"As-Saffat\", \"name_urdu\": \"الصافات\", \"number_of_verses\": 182},\n",
    "    {\"number\": 38, \"name_english\": \"Sad\", \"name_urdu\": \"ص\", \"number_of_verses\": 88},\n",
    "    {\"number\": 39, \"name_english\": \"Az-Zumar\", \"name_urdu\": \"الزمر\", \"number_of_verses\": 75},\n",
    "    {\"number\": 40, \"name_english\": \"Ghafir\", \"name_urdu\": \"غافر\", \"number_of_verses\": 85},\n",
    "    {\"number\": 41, \"name_english\": \"Fussilat\", \"name_urdu\": \"حم السجدہ\", \"number_of_verses\": 54},\n",
    "    {\"number\": 42, \"name_english\": \"Ash-Shura\", \"name_urdu\": \"الشورٰی\", \"number_of_verses\": 53},\n",
    "    {\"number\": 43, \"name_english\": \"Az-Zukhruf\", \"name_urdu\": \"الزخرف\", \"number_of_verses\": 89},\n",
    "    {\"number\": 44, \"name_english\": \"Ad-Dukhan\", \"name_urdu\": \"الدخان\", \"number_of_verses\": 59},\n",
    "    {\"number\": 45, \"name_english\": \"Al-Jathiya\", \"name_urdu\": \"الجاثیہ\", \"number_of_verses\": 37},\n",
    "    {\"number\": 46, \"name_english\": \"Al-Ahqaf\", \"name_urdu\": \"الاحقاف\", \"number_of_verses\": 35},\n",
    "    {\"number\": 47, \"name_english\": \"Muhammad\", \"name_urdu\": \"محمد\", \"number_of_verses\": 38},\n",
    "    {\"number\": 48, \"name_english\": \"Al-Fath\", \"name_urdu\": \"الفتح\", \"number_of_verses\": 29},\n",
    "    {\"number\": 49, \"name_english\": \"Al-Hujurat\", \"name_urdu\": \"الحجرات\", \"number_of_verses\": 18},\n",
    "    {\"number\": 50, \"name_english\": \"Qaf\", \"name_urdu\": \"ق\", \"number_of_verses\": 45},\n",
    "    {\"number\": 51, \"name_english\": \"Adh-Dhariyat\", \"name_urdu\": \"الذاریات\", \"number_of_verses\": 60},\n",
    "    {\"number\": 52, \"name_english\": \"At-Tur\", \"name_urdu\": \"الطور\", \"number_of_verses\": 49},\n",
    "    {\"number\": 53, \"name_english\": \"An-Najm\", \"name_urdu\": \"النجم\", \"number_of_verses\": 62},\n",
    "    {\"number\": 54, \"name_english\": \"Al-Qamar\", \"name_urdu\": \"القمر\", \"number_of_verses\": 55},\n",
    "    {\"number\": 55, \"name_english\": \"Ar-Rahman\", \"name_urdu\": \"الرحمن\", \"number_of_verses\": 78},\n",
    "    {\"number\": 56, \"name_english\": \"Al-Waqi'a\", \"name_urdu\": \"الواقعہ\", \"number_of_verses\": 96},\n",
    "    {\"number\": 57, \"name_english\": \"Al-Hadid\", \"name_urdu\": \"الحدید\", \"number_of_verses\": 29},\n",
    "    {\"number\": 58, \"name_english\": \"Al-Mujadila\", \"name_urdu\": \"المجادلہ\", \"number_of_verses\": 22},\n",
    "    {\"number\": 59, \"name_english\": \"Al-Hashr\", \"name_urdu\": \"الحشر\", \"number_of_verses\": 24},\n",
    "    {\"number\": 60, \"name_english\": \"Al-Mumtahina\", \"name_urdu\": \"الممتحنہ\", \"number_of_verses\": 13},\n",
    "    {\"number\": 61, \"name_english\": \"As-Saff\", \"name_urdu\": \"الصف\", \"number_of_verses\": 14},\n",
    "    {\"number\": 62, \"name_english\": \"Al-Jumu'a\", \"name_urdu\": \"الجمعہ\", \"number_of_verses\": 11},\n",
    "    {\"number\": 63, \"name_english\": \"Al-Munafiqun\", \"name_urdu\": \"المنافقون\", \"number_of_verses\": 11},\n",
    "    {\"number\": 64, \"name_english\": \"At-Taghabun\", \"name_urdu\": \"التغابن\", \"number_of_verses\": 18},\n",
    "    {\"number\": 65, \"name_english\": \"At-Talaq\", \"name_urdu\": \"الطلاق\", \"number_of_verses\": 12},\n",
    "    {\"number\": 66, \"name_english\": \"At-Tahrim\", \"name_urdu\": \"التحریم\", \"number_of_verses\": 12},\n",
    "    {\"number\": 67, \"name_english\": \"Al-Mulk\", \"name_urdu\": \"الملک\", \"number_of_verses\": 30},\n",
    "    {\"number\": 68, \"name_english\": \"Al-Qalam\", \"name_urdu\": \"القلم\", \"number_of_verses\": 52},\n",
    "    {\"number\": 69, \"name_english\": \"Al-Haaqqa\", \"name_urdu\": \"الحاقہ\", \"number_of_verses\": 52},\n",
    "    {\"number\": 70, \"name_english\": \"Al-Ma'arij\", \"name_urdu\": \"المعارج\", \"number_of_verses\": 44},\n",
    "    {\"number\": 71, \"name_english\": \"Nuh\", \"name_urdu\": \"نوح\", \"number_of_verses\": 28},\n",
    "    {\"number\": 72, \"name_english\": \"Al-Jinn\", \"name_urdu\": \"الجن\", \"number_of_verses\": 28},\n",
    "    {\"number\": 73, \"name_english\": \"Al-Muzzammil\", \"name_urdu\": \"المزمل\", \"number_of_verses\": 20},\n",
    "    {\"number\": 74, \"name_english\": \"Al-Muddaththir\", \"name_urdu\": \"المدثر\", \"number_of_verses\": 56},\n",
    "    {\"number\": 75, \"name_english\": \"Al-Qiyama\", \"name_urdu\": \"القیامہ\", \"number_of_verses\": 40},\n",
    "    {\"number\": 76, \"name_english\": \"Al-Insan\", \"name_urdu\": \"الانسان\", \"number_of_verses\": 31},\n",
    "    {\"number\": 77, \"name_english\": \"Al-Mursalat\", \"name_urdu\": \"المرسلات\", \"number_of_verses\": 50},\n",
    "    {\"number\": 78, \"name_english\": \"An-Naba\", \"name_urdu\": \"النبأ\", \"number_of_verses\": 40},\n",
    "    {\"number\": 79, \"name_english\": \"An-Nazi'at\", \"name_urdu\": \"النازعات\", \"number_of_verses\": 46},\n",
    "    {\"number\": 80, \"name_english\": \"Abasa\", \"name_urdu\": \"عبس\", \"number_of_verses\": 42},\n",
    "    {\"number\": 81, \"name_english\": \"At-Takwir\", \"name_urdu\": \"التکویر\", \"number_of_verses\": 29},\n",
    "    {\"number\": 82, \"name_english\": \"Al-Infitar\", \"name_urdu\": \"الانفطار\", \"number_of_verses\": 19},\n",
    "    {\"number\": 83, \"name_english\": \"Al-Mutaffifin\", \"name_urdu\": \"المطففین\", \"number_of_verses\": 36},\n",
    "    {\"number\": 84, \"name_english\": \"Al-Inshiqaq\", \"name_urdu\": \"الانشقاق\", \"number_of_verses\": 25},\n",
    "    {\"number\": 85, \"name_english\": \"Al-Buruj\", \"name_urdu\": \"البروج\", \"number_of_verses\": 22},\n",
    "    {\"number\": 86, \"name_english\": \"At-Tariq\", \"name_urdu\": \"الطارق\", \"number_of_verses\": 17},\n",
    "    {\"number\": 87, \"name_english\": \"Al-A'la\", \"name_urdu\": \"الاعلیٰ\", \"number_of_verses\": 19},\n",
    "    {\"number\": 88, \"name_english\": \"Al-Ghashiya\", \"name_urdu\": \"الغاشیہ\", \"number_of_verses\": 26},\n",
    "    {\"number\": 89, \"name_english\": \"Al-Fajr\", \"name_urdu\": \"الفجر\", \"number_of_verses\": 30},\n",
    "    {\"number\": 90, \"name_english\": \"Al-Balad\", \"name_urdu\": \"البلد\", \"number_of_verses\": 20},\n",
    "    {\"number\": 91, \"name_english\": \"Ash-Shams\", \"name_urdu\": \"الشمس\", \"number_of_verses\": 15},\n",
    "    {\"number\": 92, \"name_english\": \"Al-Lail\", \"name_urdu\": \"اللیل\", \"number_of_verses\": 21},\n",
    "    {\"number\": 93, \"name_english\": \"Ad-Duha\", \"name_urdu\": \"الضحیٰ\", \"number_of_verses\": 11},\n",
    "    {\"number\": 94, \"name_english\": \"Ash-Sharh\", \"name_urdu\": \"الانشراح\", \"number_of_verses\": 8},\n",
    "    {\"number\": 95, \"name_english\": \"At-Tin\", \"name_urdu\": \"التین\", \"number_of_verses\": 8},\n",
    "    {\"number\": 96, \"name_english\": \"Al-Alaq\", \"name_urdu\": \"العلق\", \"number_of_verses\": 19},\n",
    "    {\"number\": 97, \"name_english\": \"Al-Qadr\", \"name_urdu\": \"القدر\", \"number_of_verses\": 5},\n",
    "    {\"number\": 98, \"name_english\": \"Al-Bayyina\", \"name_urdu\": \"البینۃ\", \"number_of_verses\": 8},\n",
    "    {\"number\": 99, \"name_english\": \"Az-Zalzala\", \"name_urdu\": \"الزلزال\", \"number_of_verses\": 8},\n",
    "    {\"number\": 100, \"name_english\": \"Al-Adiyat\", \"name_urdu\": \"العادیات\", \"number_of_verses\": 11},\n",
    "    {\"number\": 101, \"name_english\": \"Al-Qaria\", \"name_urdu\": \"القارعۃ\", \"number_of_verses\": 11},\n",
    "    {\"number\": 102, \"name_english\": \"At-Takathur\", \"name_urdu\": \"التکاثر\", \"number_of_verses\": 8},\n",
    "    {\"number\": 103, \"name_english\": \"Al-Asr\", \"name_urdu\": \"العصر\", \"number_of_verses\": 3},\n",
    "    {\"number\": 104, \"name_english\": \"Al-Humaza\", \"name_urdu\": \"الھمزہ\", \"number_of_verses\": 9},\n",
    "    {\"number\": 105, \"name_english\": \"Al-Fil\", \"name_urdu\": \"الفیل\", \"number_of_verses\": 5},\n",
    "    {\"number\": 106, \"name_english\": \"Quraish\", \"name_urdu\": \"قریش\", \"number_of_verses\": 4},\n",
    "    {\"number\": 107, \"name_english\": \"Al-Ma'un\", \"name_urdu\": \"الماعون\", \"number_of_verses\": 7},\n",
    "    {\"number\": 108, \"name_english\": \"Al-Kawthar\", \"name_urdu\": \"الکوثر\", \"number_of_verses\": 3},\n",
    "    {\"number\": 109, \"name_english\": \"Al-Kafiroon\", \"name_urdu\": \"الکافرون\", \"number_of_verses\": 6},\n",
    "    {\"number\": 110, \"name_english\": \"An-Nasr\", \"name_urdu\": \"النصر\", \"number_of_verses\": 3},\n",
    "    {\"number\": 111, \"name_english\": \"Al-Masad\", \"name_urdu\": \"المسد\", \"number_of_verses\": 5},\n",
    "    {\"number\": 112, \"name_english\": \"Al-Ikhlas\", \"name_urdu\": \"الاخلاص\", \"number_of_verses\": 4},\n",
    "    {\"number\": 113, \"name_english\": \"Al-Falaq\", \"name_urdu\": \"الفلق\", \"number_of_verses\": 5},\n",
    "    {\"number\": 114, \"name_english\": \"An-Nas\", \"name_urdu\": \"الناس\", \"number_of_verses\": 6}\n",
    "]\n",
    "\n",
    "\n",
    "\n",
    "\n",
    "\n",
    "\n",
    "\n",
    "    "
   ]
  },
  {
   "cell_type": "code",
   "execution_count": 21,
   "metadata": {},
   "outputs": [
    {
     "name": "stdout",
     "output_type": "stream",
     "text": [
      "Surah Number: 1\n",
      "English Name: Al-Fatiha\n",
      "Urdu Name: الفاتحہ\n",
      "Number of Verses: 7\n"
     ]
    }
   ],
   "source": [
    "# Access the first surah\n",
    "first_surah = surah_info[0]\n",
    "print(f\"Surah Number: {first_surah['number']}\")\n",
    "print(f\"English Name: {first_surah['name_english']}\")\n",
    "print(f\"Urdu Name: {first_surah['name_urdu']}\")\n",
    "print(f\"Number of Verses: {first_surah['number_of_verses']}\")"
   ]
  },
  {
   "cell_type": "code",
   "execution_count": 22,
   "metadata": {},
   "outputs": [
    {
     "name": "stdout",
     "output_type": "stream",
     "text": [
      "Al-Fatiha\n",
      "Al-Baqara\n",
      "Aal-E-Imran\n",
      "An-Nisa\n",
      "Al-Ma'idah\n",
      "Al-An'am\n",
      "Al-A'raf\n",
      "Al-Anfal\n",
      "At-Tawbah\n",
      "Yunus\n",
      "Hud\n",
      "Yusuf\n",
      "Ar-Ra'd\n",
      "Ibrahim\n",
      "Al-Hijr\n",
      "An-Nahl\n",
      "Al-Isra\n",
      "Al-Kahf\n",
      "Maryam\n",
      "Ta-Ha\n",
      "Al-Anbiya\n",
      "Al-Hajj\n",
      "Al-Mu'minun\n",
      "An-Nur\n",
      "Al-Furqan\n",
      "Ash-Shu'ara\n",
      "An-Naml\n",
      "Al-Qasas\n",
      "Al-Ankabut\n",
      "Ar-Rum\n",
      "Luqman\n",
      "As-Sajda\n",
      "Al-Ahzab\n",
      "Saba\n",
      "Fatir\n",
      "Ya-Sin\n",
      "As-Saffat\n",
      "Sad\n",
      "Az-Zumar\n",
      "Ghafir\n",
      "Fussilat\n",
      "Ash-Shura\n",
      "Az-Zukhruf\n",
      "Ad-Dukhan\n",
      "Al-Jathiya\n",
      "Al-Ahqaf\n",
      "Muhammad\n",
      "Al-Fath\n",
      "Al-Hujurat\n",
      "Qaf\n",
      "Adh-Dhariyat\n",
      "At-Tur\n",
      "An-Najm\n",
      "Al-Qamar\n",
      "Ar-Rahman\n",
      "Al-Waqi'a\n",
      "Al-Hadid\n",
      "Al-Mujadila\n",
      "Al-Hashr\n",
      "Al-Mumtahina\n",
      "As-Saff\n",
      "Al-Jumu'a\n",
      "Al-Munafiqun\n",
      "At-Taghabun\n",
      "At-Talaq\n",
      "At-Tahrim\n",
      "Al-Mulk\n",
      "Al-Qalam\n",
      "Al-Haaqqa\n",
      "Al-Ma'arij\n",
      "Nuh\n",
      "Al-Jinn\n",
      "Al-Muzzammil\n",
      "Al-Muddaththir\n",
      "Al-Qiyama\n",
      "Al-Insan\n",
      "Al-Mursalat\n",
      "An-Naba\n",
      "An-Nazi'at\n",
      "Abasa\n",
      "At-Takwir\n",
      "Al-Infitar\n",
      "Al-Mutaffifin\n",
      "Al-Inshiqaq\n",
      "Al-Buruj\n",
      "At-Tariq\n",
      "Al-A'la\n",
      "Al-Ghashiya\n",
      "Al-Fajr\n",
      "Al-Balad\n",
      "Ash-Shams\n",
      "Al-Lail\n",
      "Ad-Duha\n",
      "Ash-Sharh\n",
      "At-Tin\n",
      "Al-Alaq\n",
      "Al-Qadr\n",
      "Al-Bayyina\n",
      "Az-Zalzala\n",
      "Al-Adiyat\n",
      "Al-Qaria\n",
      "At-Takathur\n",
      "Al-Asr\n",
      "Al-Humaza\n",
      "Al-Fil\n",
      "Quraish\n",
      "Al-Ma'un\n",
      "Al-Kawthar\n",
      "Al-Kafiroon\n",
      "An-Nasr\n",
      "Al-Masad\n",
      "Al-Ikhlas\n",
      "Al-Falaq\n",
      "An-Nas\n"
     ]
    }
   ],
   "source": [
    "# Print the English names of all surahs\n",
    "for surah in surah_info:\n",
    "    print(surah['name_english'])"
   ]
  },
  {
   "cell_type": "code",
   "execution_count": 23,
   "metadata": {},
   "outputs": [
    {
     "name": "stdout",
     "output_type": "stream",
     "text": [
      "Surah Number: 1\n",
      "English Name: Al-Fatiha\n",
      "Urdu Name: الفاتحہ\n",
      "Number of Verses: 7\n",
      "\n",
      "Surah Number: 2\n",
      "English Name: Al-Baqara\n",
      "Urdu Name: البقرہ\n",
      "Number of Verses: 286\n",
      "\n",
      "Surah Number: 3\n",
      "English Name: Aal-E-Imran\n",
      "Urdu Name: آل عمران\n",
      "Number of Verses: 200\n",
      "\n",
      "Surah Number: 4\n",
      "English Name: An-Nisa\n",
      "Urdu Name: النساء\n",
      "Number of Verses: 176\n",
      "\n",
      "Surah Number: 5\n",
      "English Name: Al-Ma'idah\n",
      "Urdu Name: المائدہ\n",
      "Number of Verses: 120\n",
      "\n",
      "Surah Number: 6\n",
      "English Name: Al-An'am\n",
      "Urdu Name: الانعام\n",
      "Number of Verses: 165\n",
      "\n",
      "Surah Number: 7\n",
      "English Name: Al-A'raf\n",
      "Urdu Name: الاعراف\n",
      "Number of Verses: 206\n",
      "\n",
      "Surah Number: 8\n",
      "English Name: Al-Anfal\n",
      "Urdu Name: الانفال\n",
      "Number of Verses: 75\n",
      "\n",
      "Surah Number: 9\n",
      "English Name: At-Tawbah\n",
      "Urdu Name: التوبہ\n",
      "Number of Verses: 129\n",
      "\n",
      "Surah Number: 10\n",
      "English Name: Yunus\n",
      "Urdu Name: یونس\n",
      "Number of Verses: 109\n",
      "\n",
      "Surah Number: 11\n",
      "English Name: Hud\n",
      "Urdu Name: ہود\n",
      "Number of Verses: 123\n",
      "\n",
      "Surah Number: 12\n",
      "English Name: Yusuf\n",
      "Urdu Name: یوسف\n",
      "Number of Verses: 111\n",
      "\n",
      "Surah Number: 13\n",
      "English Name: Ar-Ra'd\n",
      "Urdu Name: الرعد\n",
      "Number of Verses: 43\n",
      "\n",
      "Surah Number: 14\n",
      "English Name: Ibrahim\n",
      "Urdu Name: ابراہیم\n",
      "Number of Verses: 52\n",
      "\n",
      "Surah Number: 15\n",
      "English Name: Al-Hijr\n",
      "Urdu Name: الحجر\n",
      "Number of Verses: 99\n",
      "\n",
      "Surah Number: 16\n",
      "English Name: An-Nahl\n",
      "Urdu Name: النحل\n",
      "Number of Verses: 128\n",
      "\n",
      "Surah Number: 17\n",
      "English Name: Al-Isra\n",
      "Urdu Name: بنی اسرائیل\n",
      "Number of Verses: 111\n",
      "\n",
      "Surah Number: 18\n",
      "English Name: Al-Kahf\n",
      "Urdu Name: الکہف\n",
      "Number of Verses: 110\n",
      "\n",
      "Surah Number: 19\n",
      "English Name: Maryam\n",
      "Urdu Name: مریم\n",
      "Number of Verses: 98\n",
      "\n",
      "Surah Number: 20\n",
      "English Name: Ta-Ha\n",
      "Urdu Name: طٰہٰ\n",
      "Number of Verses: 135\n",
      "\n",
      "Surah Number: 21\n",
      "English Name: Al-Anbiya\n",
      "Urdu Name: الانبیا\n",
      "Number of Verses: 112\n",
      "\n",
      "Surah Number: 22\n",
      "English Name: Al-Hajj\n",
      "Urdu Name: الحج\n",
      "Number of Verses: 78\n",
      "\n",
      "Surah Number: 23\n",
      "English Name: Al-Mu'minun\n",
      "Urdu Name: المؤمنون\n",
      "Number of Verses: 118\n",
      "\n",
      "Surah Number: 24\n",
      "English Name: An-Nur\n",
      "Urdu Name: النور\n",
      "Number of Verses: 64\n",
      "\n",
      "Surah Number: 25\n",
      "English Name: Al-Furqan\n",
      "Urdu Name: الفرقان\n",
      "Number of Verses: 77\n",
      "\n",
      "Surah Number: 26\n",
      "English Name: Ash-Shu'ara\n",
      "Urdu Name: الشعراء\n",
      "Number of Verses: 227\n",
      "\n",
      "Surah Number: 27\n",
      "English Name: An-Naml\n",
      "Urdu Name: النمل\n",
      "Number of Verses: 93\n",
      "\n",
      "Surah Number: 28\n",
      "English Name: Al-Qasas\n",
      "Urdu Name: القصص\n",
      "Number of Verses: 88\n",
      "\n",
      "Surah Number: 29\n",
      "English Name: Al-Ankabut\n",
      "Urdu Name: العنکبوت\n",
      "Number of Verses: 69\n",
      "\n",
      "Surah Number: 30\n",
      "English Name: Ar-Rum\n",
      "Urdu Name: الروم\n",
      "Number of Verses: 60\n",
      "\n",
      "Surah Number: 31\n",
      "English Name: Luqman\n",
      "Urdu Name: لقمان\n",
      "Number of Verses: 34\n",
      "\n",
      "Surah Number: 32\n",
      "English Name: As-Sajda\n",
      "Urdu Name: السجدہ\n",
      "Number of Verses: 30\n",
      "\n",
      "Surah Number: 33\n",
      "English Name: Al-Ahzab\n",
      "Urdu Name: الاحزاب\n",
      "Number of Verses: 73\n",
      "\n",
      "Surah Number: 34\n",
      "English Name: Saba\n",
      "Urdu Name: سبا\n",
      "Number of Verses: 54\n",
      "\n",
      "Surah Number: 35\n",
      "English Name: Fatir\n",
      "Urdu Name: فاطر\n",
      "Number of Verses: 45\n",
      "\n",
      "Surah Number: 36\n",
      "English Name: Ya-Sin\n",
      "Urdu Name: یٰس\n",
      "Number of Verses: 83\n",
      "\n",
      "Surah Number: 37\n",
      "English Name: As-Saffat\n",
      "Urdu Name: الصافات\n",
      "Number of Verses: 182\n",
      "\n",
      "Surah Number: 38\n",
      "English Name: Sad\n",
      "Urdu Name: ص\n",
      "Number of Verses: 88\n",
      "\n",
      "Surah Number: 39\n",
      "English Name: Az-Zumar\n",
      "Urdu Name: الزمر\n",
      "Number of Verses: 75\n",
      "\n",
      "Surah Number: 40\n",
      "English Name: Ghafir\n",
      "Urdu Name: غافر\n",
      "Number of Verses: 85\n",
      "\n",
      "Surah Number: 41\n",
      "English Name: Fussilat\n",
      "Urdu Name: حم السجدہ\n",
      "Number of Verses: 54\n",
      "\n",
      "Surah Number: 42\n",
      "English Name: Ash-Shura\n",
      "Urdu Name: الشورٰی\n",
      "Number of Verses: 53\n",
      "\n",
      "Surah Number: 43\n",
      "English Name: Az-Zukhruf\n",
      "Urdu Name: الزخرف\n",
      "Number of Verses: 89\n",
      "\n",
      "Surah Number: 44\n",
      "English Name: Ad-Dukhan\n",
      "Urdu Name: الدخان\n",
      "Number of Verses: 59\n",
      "\n",
      "Surah Number: 45\n",
      "English Name: Al-Jathiya\n",
      "Urdu Name: الجاثیہ\n",
      "Number of Verses: 37\n",
      "\n",
      "Surah Number: 46\n",
      "English Name: Al-Ahqaf\n",
      "Urdu Name: الاحقاف\n",
      "Number of Verses: 35\n",
      "\n",
      "Surah Number: 47\n",
      "English Name: Muhammad\n",
      "Urdu Name: محمد\n",
      "Number of Verses: 38\n",
      "\n",
      "Surah Number: 48\n",
      "English Name: Al-Fath\n",
      "Urdu Name: الفتح\n",
      "Number of Verses: 29\n",
      "\n",
      "Surah Number: 49\n",
      "English Name: Al-Hujurat\n",
      "Urdu Name: الحجرات\n",
      "Number of Verses: 18\n",
      "\n",
      "Surah Number: 50\n",
      "English Name: Qaf\n",
      "Urdu Name: ق\n",
      "Number of Verses: 45\n",
      "\n",
      "Surah Number: 51\n",
      "English Name: Adh-Dhariyat\n",
      "Urdu Name: الذاریات\n",
      "Number of Verses: 60\n",
      "\n",
      "Surah Number: 52\n",
      "English Name: At-Tur\n",
      "Urdu Name: الطور\n",
      "Number of Verses: 49\n",
      "\n",
      "Surah Number: 53\n",
      "English Name: An-Najm\n",
      "Urdu Name: النجم\n",
      "Number of Verses: 62\n",
      "\n",
      "Surah Number: 54\n",
      "English Name: Al-Qamar\n",
      "Urdu Name: القمر\n",
      "Number of Verses: 55\n",
      "\n",
      "Surah Number: 55\n",
      "English Name: Ar-Rahman\n",
      "Urdu Name: الرحمن\n",
      "Number of Verses: 78\n",
      "\n",
      "Surah Number: 56\n",
      "English Name: Al-Waqi'a\n",
      "Urdu Name: الواقعہ\n",
      "Number of Verses: 96\n",
      "\n",
      "Surah Number: 57\n",
      "English Name: Al-Hadid\n",
      "Urdu Name: الحدید\n",
      "Number of Verses: 29\n",
      "\n",
      "Surah Number: 58\n",
      "English Name: Al-Mujadila\n",
      "Urdu Name: المجادلہ\n",
      "Number of Verses: 22\n",
      "\n",
      "Surah Number: 59\n",
      "English Name: Al-Hashr\n",
      "Urdu Name: الحشر\n",
      "Number of Verses: 24\n",
      "\n",
      "Surah Number: 60\n",
      "English Name: Al-Mumtahina\n",
      "Urdu Name: الممتحنہ\n",
      "Number of Verses: 13\n",
      "\n",
      "Surah Number: 61\n",
      "English Name: As-Saff\n",
      "Urdu Name: الصف\n",
      "Number of Verses: 14\n",
      "\n",
      "Surah Number: 62\n",
      "English Name: Al-Jumu'a\n",
      "Urdu Name: الجمعہ\n",
      "Number of Verses: 11\n",
      "\n",
      "Surah Number: 63\n",
      "English Name: Al-Munafiqun\n",
      "Urdu Name: المنافقون\n",
      "Number of Verses: 11\n",
      "\n",
      "Surah Number: 64\n",
      "English Name: At-Taghabun\n",
      "Urdu Name: التغابن\n",
      "Number of Verses: 18\n",
      "\n",
      "Surah Number: 65\n",
      "English Name: At-Talaq\n",
      "Urdu Name: الطلاق\n",
      "Number of Verses: 12\n",
      "\n",
      "Surah Number: 66\n",
      "English Name: At-Tahrim\n",
      "Urdu Name: التحریم\n",
      "Number of Verses: 12\n",
      "\n",
      "Surah Number: 67\n",
      "English Name: Al-Mulk\n",
      "Urdu Name: الملک\n",
      "Number of Verses: 30\n",
      "\n",
      "Surah Number: 68\n",
      "English Name: Al-Qalam\n",
      "Urdu Name: القلم\n",
      "Number of Verses: 52\n",
      "\n",
      "Surah Number: 69\n",
      "English Name: Al-Haaqqa\n",
      "Urdu Name: الحاقہ\n",
      "Number of Verses: 52\n",
      "\n",
      "Surah Number: 70\n",
      "English Name: Al-Ma'arij\n",
      "Urdu Name: المعارج\n",
      "Number of Verses: 44\n",
      "\n",
      "Surah Number: 71\n",
      "English Name: Nuh\n",
      "Urdu Name: نوح\n",
      "Number of Verses: 28\n",
      "\n",
      "Surah Number: 72\n",
      "English Name: Al-Jinn\n",
      "Urdu Name: الجن\n",
      "Number of Verses: 28\n",
      "\n",
      "Surah Number: 73\n",
      "English Name: Al-Muzzammil\n",
      "Urdu Name: المزمل\n",
      "Number of Verses: 20\n",
      "\n",
      "Surah Number: 74\n",
      "English Name: Al-Muddaththir\n",
      "Urdu Name: المدثر\n",
      "Number of Verses: 56\n",
      "\n",
      "Surah Number: 75\n",
      "English Name: Al-Qiyama\n",
      "Urdu Name: القیامہ\n",
      "Number of Verses: 40\n",
      "\n",
      "Surah Number: 76\n",
      "English Name: Al-Insan\n",
      "Urdu Name: الانسان\n",
      "Number of Verses: 31\n",
      "\n",
      "Surah Number: 77\n",
      "English Name: Al-Mursalat\n",
      "Urdu Name: المرسلات\n",
      "Number of Verses: 50\n",
      "\n",
      "Surah Number: 78\n",
      "English Name: An-Naba\n",
      "Urdu Name: النبأ\n",
      "Number of Verses: 40\n",
      "\n",
      "Surah Number: 79\n",
      "English Name: An-Nazi'at\n",
      "Urdu Name: النازعات\n",
      "Number of Verses: 46\n",
      "\n",
      "Surah Number: 80\n",
      "English Name: Abasa\n",
      "Urdu Name: عبس\n",
      "Number of Verses: 42\n",
      "\n",
      "Surah Number: 81\n",
      "English Name: At-Takwir\n",
      "Urdu Name: التکویر\n",
      "Number of Verses: 29\n",
      "\n",
      "Surah Number: 82\n",
      "English Name: Al-Infitar\n",
      "Urdu Name: الانفطار\n",
      "Number of Verses: 19\n",
      "\n",
      "Surah Number: 83\n",
      "English Name: Al-Mutaffifin\n",
      "Urdu Name: المطففین\n",
      "Number of Verses: 36\n",
      "\n",
      "Surah Number: 84\n",
      "English Name: Al-Inshiqaq\n",
      "Urdu Name: الانشقاق\n",
      "Number of Verses: 25\n",
      "\n",
      "Surah Number: 85\n",
      "English Name: Al-Buruj\n",
      "Urdu Name: البروج\n",
      "Number of Verses: 22\n",
      "\n",
      "Surah Number: 86\n",
      "English Name: At-Tariq\n",
      "Urdu Name: الطارق\n",
      "Number of Verses: 17\n",
      "\n",
      "Surah Number: 87\n",
      "English Name: Al-A'la\n",
      "Urdu Name: الاعلیٰ\n",
      "Number of Verses: 19\n",
      "\n",
      "Surah Number: 88\n",
      "English Name: Al-Ghashiya\n",
      "Urdu Name: الغاشیہ\n",
      "Number of Verses: 26\n",
      "\n",
      "Surah Number: 89\n",
      "English Name: Al-Fajr\n",
      "Urdu Name: الفجر\n",
      "Number of Verses: 30\n",
      "\n",
      "Surah Number: 90\n",
      "English Name: Al-Balad\n",
      "Urdu Name: البلد\n",
      "Number of Verses: 20\n",
      "\n",
      "Surah Number: 91\n",
      "English Name: Ash-Shams\n",
      "Urdu Name: الشمس\n",
      "Number of Verses: 15\n",
      "\n",
      "Surah Number: 92\n",
      "English Name: Al-Lail\n",
      "Urdu Name: اللیل\n",
      "Number of Verses: 21\n",
      "\n",
      "Surah Number: 93\n",
      "English Name: Ad-Duha\n",
      "Urdu Name: الضحیٰ\n",
      "Number of Verses: 11\n",
      "\n",
      "Surah Number: 94\n",
      "English Name: Ash-Sharh\n",
      "Urdu Name: الانشراح\n",
      "Number of Verses: 8\n",
      "\n",
      "Surah Number: 95\n",
      "English Name: At-Tin\n",
      "Urdu Name: التین\n",
      "Number of Verses: 8\n",
      "\n",
      "Surah Number: 96\n",
      "English Name: Al-Alaq\n",
      "Urdu Name: العلق\n",
      "Number of Verses: 19\n",
      "\n",
      "Surah Number: 97\n",
      "English Name: Al-Qadr\n",
      "Urdu Name: القدر\n",
      "Number of Verses: 5\n",
      "\n",
      "Surah Number: 98\n",
      "English Name: Al-Bayyina\n",
      "Urdu Name: البینۃ\n",
      "Number of Verses: 8\n",
      "\n",
      "Surah Number: 99\n",
      "English Name: Az-Zalzala\n",
      "Urdu Name: الزلزال\n",
      "Number of Verses: 8\n",
      "\n",
      "Surah Number: 100\n",
      "English Name: Al-Adiyat\n",
      "Urdu Name: العادیات\n",
      "Number of Verses: 11\n",
      "\n",
      "Surah Number: 101\n",
      "English Name: Al-Qaria\n",
      "Urdu Name: القارعۃ\n",
      "Number of Verses: 11\n",
      "\n",
      "Surah Number: 102\n",
      "English Name: At-Takathur\n",
      "Urdu Name: التکاثر\n",
      "Number of Verses: 8\n",
      "\n",
      "Surah Number: 103\n",
      "English Name: Al-Asr\n",
      "Urdu Name: العصر\n",
      "Number of Verses: 3\n",
      "\n",
      "Surah Number: 104\n",
      "English Name: Al-Humaza\n",
      "Urdu Name: الھمزہ\n",
      "Number of Verses: 9\n",
      "\n",
      "Surah Number: 105\n",
      "English Name: Al-Fil\n",
      "Urdu Name: الفیل\n",
      "Number of Verses: 5\n",
      "\n",
      "Surah Number: 106\n",
      "English Name: Quraish\n",
      "Urdu Name: قریش\n",
      "Number of Verses: 4\n",
      "\n",
      "Surah Number: 107\n",
      "English Name: Al-Ma'un\n",
      "Urdu Name: الماعون\n",
      "Number of Verses: 7\n",
      "\n",
      "Surah Number: 108\n",
      "English Name: Al-Kawthar\n",
      "Urdu Name: الکوثر\n",
      "Number of Verses: 3\n",
      "\n",
      "Surah Number: 109\n",
      "English Name: Al-Kafiroon\n",
      "Urdu Name: الکافرون\n",
      "Number of Verses: 6\n",
      "\n",
      "Surah Number: 110\n",
      "English Name: An-Nasr\n",
      "Urdu Name: النصر\n",
      "Number of Verses: 3\n",
      "\n",
      "Surah Number: 111\n",
      "English Name: Al-Masad\n",
      "Urdu Name: المسد\n",
      "Number of Verses: 5\n",
      "\n",
      "Surah Number: 112\n",
      "English Name: Al-Ikhlas\n",
      "Urdu Name: الاخلاص\n",
      "Number of Verses: 4\n",
      "\n",
      "Surah Number: 113\n",
      "English Name: Al-Falaq\n",
      "Urdu Name: الفلق\n",
      "Number of Verses: 5\n",
      "\n",
      "Surah Number: 114\n",
      "English Name: An-Nas\n",
      "Urdu Name: الناس\n",
      "Number of Verses: 6\n",
      "\n"
     ]
    }
   ],
   "source": [
    "# Iterate through all surahs and print their information\n",
    "for surah in surah_info:\n",
    "    print(f\"Surah Number: {surah['number']}\")\n",
    "    print(f\"English Name: {surah['name_english']}\")\n",
    "    print(f\"Urdu Name: {surah['name_urdu']}\")\n",
    "    print(f\"Number of Verses: {surah['number_of_verses']}\")\n",
    "    print()  # Print a blank line for better readability"
   ]
  },
  {
   "cell_type": "code",
   "execution_count": 24,
   "metadata": {},
   "outputs": [
    {
     "name": "stdout",
     "output_type": "stream",
     "text": [
      "Surah Number: 2, Name: Al-Baqara, Verses: 286\n",
      "Surah Number: 3, Name: Aal-E-Imran, Verses: 200\n",
      "Surah Number: 4, Name: An-Nisa, Verses: 176\n",
      "Surah Number: 5, Name: Al-Ma'idah, Verses: 120\n",
      "Surah Number: 6, Name: Al-An'am, Verses: 165\n",
      "Surah Number: 7, Name: Al-A'raf, Verses: 206\n",
      "Surah Number: 9, Name: At-Tawbah, Verses: 129\n",
      "Surah Number: 10, Name: Yunus, Verses: 109\n",
      "Surah Number: 11, Name: Hud, Verses: 123\n",
      "Surah Number: 12, Name: Yusuf, Verses: 111\n",
      "Surah Number: 16, Name: An-Nahl, Verses: 128\n",
      "Surah Number: 17, Name: Al-Isra, Verses: 111\n",
      "Surah Number: 18, Name: Al-Kahf, Verses: 110\n",
      "Surah Number: 20, Name: Ta-Ha, Verses: 135\n",
      "Surah Number: 21, Name: Al-Anbiya, Verses: 112\n",
      "Surah Number: 23, Name: Al-Mu'minun, Verses: 118\n",
      "Surah Number: 26, Name: Ash-Shu'ara, Verses: 227\n",
      "Surah Number: 37, Name: As-Saffat, Verses: 182\n"
     ]
    }
   ],
   "source": [
    "# Print surahs with more than 100 verses\n",
    "for surah in surah_info:\n",
    "    if surah['number_of_verses'] > 100:\n",
    "        print(f\"Surah Number: {surah['number']}, Name: {surah['name_english']}, Verses: {surah['number_of_verses']}\")\n"
   ]
  },
  {
   "cell_type": "code",
   "execution_count": null,
   "metadata": {},
   "outputs": [],
   "source": []
  }
 ],
 "metadata": {
  "kernelspec": {
   "display_name": "Python 3",
   "language": "python",
   "name": "python3"
  },
  "language_info": {
   "codemirror_mode": {
    "name": "ipython",
    "version": 3
   },
   "file_extension": ".py",
   "mimetype": "text/x-python",
   "name": "python",
   "nbconvert_exporter": "python",
   "pygments_lexer": "ipython3",
   "version": "3.12.4"
  }
 },
 "nbformat": 4,
 "nbformat_minor": 2
}
