{
 "cells": [
  {
   "cell_type": "markdown",
   "id": "a87da987",
   "metadata": {},
   "source": [
    "\n",
    "# Loop Questions\n",
    "\n",
    "You have to do loop questions without using any function. For example, you have to iterate in the list to find the max value rather than using the max function.\n"
   ]
  },
  {
   "cell_type": "markdown",
   "id": "d43755a4",
   "metadata": {},
   "source": [
    "\n",
    "## Q1: Take input starting and ending number from the user. Print numbers between them:\n",
    "**Sample Runs:**\n",
    "- Starting Number: 2\n",
    "- Ending Number: 6\n",
    "- Output: 2 3 4 5 6\n"
   ]
  },
  {
   "cell_type": "code",
   "execution_count": null,
   "id": "421d27d9",
   "metadata": {},
   "outputs": [],
   "source": [
    "#Q1"
   ]
  },
  {
   "cell_type": "markdown",
   "id": "169f4420",
   "metadata": {},
   "source": [
    "\n",
    "## Q2: Create a Python program that prints a new list containing only the positive numbers from the predefined list [-10, -5, 0, 5, 10, 15].\n"
   ]
  },
  {
   "cell_type": "code",
   "execution_count": 1,
   "id": "ba8aa562",
   "metadata": {},
   "outputs": [],
   "source": [
    "#Q2"
   ]
  },
  {
   "cell_type": "markdown",
   "id": "3c7b2b3e",
   "metadata": {},
   "source": [
    "\n",
    "## Q3: Programming Question: Favorite Games\n",
    "\n",
    "You are given a dictionary where the keys are the names of students and the values are lists of their favorite games. Your task is to write a Python program that prints each student's name and their favorite games in a nicely formatted way.\n",
    "\n",
    "**Starting dictionary:**\n",
    "\n",
    "```python\n",
    "favorite_games = {\n",
    "    'alice': ['chess', 'scrabble'],\n",
    "    'bob': ['checkers'],\n",
    "    'carol': ['uno', 'monopoly'],\n",
    "    'dave': ['chess', 'clue'],\n",
    "}\n",
    "```\n",
    "\n",
    "**Expected Output:**\n",
    "\n",
    "```\n",
    "Alice's favorite games are:\n",
    "    Chess\n",
    "    Scrabble\n",
    "\n",
    "Bob's favorite game is:\n",
    "    Checkers\n",
    "\n",
    "Carol's favorite games are:\n",
    "    Uno\n",
    "    Monopoly\n",
    "\n",
    "Dave's favorite games are:\n",
    "    Chess\n",
    "    Clue\n",
    "```\n",
    "\n",
    "**Additional Details:**\n",
    "- If a student has only one favorite game, print \"favorite game is\" instead of \"favorite games are\".\n",
    "- Ensure that each game name is capitalized properly.\n"
   ]
  },
  {
   "cell_type": "code",
   "execution_count": 2,
   "id": "59824a7a",
   "metadata": {},
   "outputs": [],
   "source": [
    "#Q3"
   ]
  }
 ],
 "metadata": {
  "kernelspec": {
   "display_name": "Python 3",
   "language": "python",
   "name": "python3"
  },
  "language_info": {
   "codemirror_mode": {
    "name": "ipython",
    "version": 3
   },
   "file_extension": ".py",
   "mimetype": "text/x-python",
   "name": "python",
   "nbconvert_exporter": "python",
   "pygments_lexer": "ipython3",
   "version": "3.10.0rc2"
  }
 },
 "nbformat": 4,
 "nbformat_minor": 5
}
