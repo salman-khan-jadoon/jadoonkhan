{
 "cells": [
  {
   "cell_type": "code",
   "execution_count": 36,
   "metadata": {},
   "outputs": [
    {
     "name": "stdout",
     "output_type": "stream",
     "text": [
      "['urdu', 'computer', 'english', 'spoken_englih']\n",
      "['urdu', 'computer', 'math', 'spoken_englih']\n",
      "['computer', 'english', 'spoken_englih']\n"
     ]
    }
   ],
   "source": [
    "subject = ['urdu','computer','english','spoken_englih']\n",
    "print(subject)\n",
    "\n",
    "\n",
    "subject = ['urdu','computer','english','spoken_englih']\n",
    "subject[2] = 'math'\n",
    "print(subject)\n",
    "\n",
    "subject = ['urdu','computer','english','spoken_englih']\n",
    "del subject[0]\n",
    "print(subject)\n"
   ]
  },
  {
   "cell_type": "code",
   "execution_count": 37,
   "metadata": {},
   "outputs": [
    {
     "name": "stdout",
     "output_type": "stream",
     "text": [
      "the last motorcycle i owned was a Suzuki.\n"
     ]
    }
   ],
   "source": [
    "motorcycles = ['honda', 'yamaha', 'suzuki']\n",
    "last_owned = motorcycles.pop()\n",
    "print(f\"the last motorcycle i owned was a {last_owned.title() }.\")"
   ]
  },
  {
   "cell_type": "code",
   "execution_count": null,
   "metadata": {},
   "outputs": [],
   "source": []
  },
  {
   "cell_type": "code",
   "execution_count": 35,
   "metadata": {},
   "outputs": [
    {
     "name": "stdout",
     "output_type": "stream",
     "text": [
      "['urdu', 'islamic', 'english', 'spoken_englih']\n",
      "['urdu', 'computer', 'english', 'spoken_englih', 'islamic']\n",
      "['qaran', 'urdu', 'computer', 'english', 'spoken_englih']\n"
     ]
    }
   ],
   "source": [
    "subject = ['urdu','computer','english','spoken_englih']\n",
    "subject[1] ='islamic'\n",
    "print(subject)\n",
    "\n",
    "subject = ['urdu','computer','english','spoken_englih']\n",
    "subject.append(\"islamic\")\n",
    "print(subject)\n",
    "\n",
    "subject = ['urdu','computer','english','spoken_englih']\n",
    "subject.insert(0,'qaran')\n",
    "print(subject)"
   ]
  },
  {
   "cell_type": "code",
   "execution_count": 32,
   "metadata": {},
   "outputs": [
    {
     "name": "stdout",
     "output_type": "stream",
     "text": [
      "['urdu', 'computer', 'english', 'spoken_englih']\n",
      "['urdu', 'islamic', 'english', 'spoken_englih']\n",
      "['urdu', 'computer', 'english', 'spoken_englih', 'computer']\n"
     ]
    }
   ],
   "source": [
    "subject = ['urdu','computer','english','spoken_englih']\n",
    "print(subject)\n",
    "\n",
    "subject = ['urdu','computer','english','spoken_englih']\n",
    "subject [1]= 'islamic'\n",
    "print(subject)\n",
    "\n",
    "subject = ['urdu','computer','english','spoken_englih']\n",
    "subject.append('computer')\n",
    "print(subject)\n"
   ]
  },
  {
   "cell_type": "code",
   "execution_count": 22,
   "metadata": {},
   "outputs": [
    {
     "name": "stdout",
     "output_type": "stream",
     "text": [
      "my foverit subject was a, Spoken_Englih.\n"
     ]
    }
   ],
   "source": [
    "subject = ['urdu','computer','english','spoken_englih']\n",
    "message =f\"my foverit subject was a, {subject[3].title()}.\"\n",
    "print(message)"
   ]
  },
  {
   "cell_type": "code",
   "execution_count": 14,
   "metadata": {},
   "outputs": [
    {
     "name": "stdout",
     "output_type": "stream",
     "text": [
      "['pansal', 'pen', 'book']\n"
     ]
    }
   ],
   "source": [
    "shop =  ['pansal','pen','book','copy']\n",
    "print(shop[0:3])"
   ]
  },
  {
   "cell_type": "code",
   "execution_count": 15,
   "metadata": {},
   "outputs": [
    {
     "name": "stdout",
     "output_type": "stream",
     "text": [
      "Copy\n"
     ]
    }
   ],
   "source": [
    "shop =  ['pansal','pen','book','copy']\n",
    "print(shop[3].title())"
   ]
  },
  {
   "cell_type": "code",
   "execution_count": 16,
   "metadata": {},
   "outputs": [
    {
     "name": "stdout",
     "output_type": "stream",
     "text": [
      "book\n"
     ]
    }
   ],
   "source": [
    "shop =  ['pansal','pen','book','copy']\n",
    "print(shop[-2])"
   ]
  },
  {
   "cell_type": "code",
   "execution_count": 13,
   "metadata": {},
   "outputs": [
    {
     "name": "stdout",
     "output_type": "stream",
     "text": [
      "pen\n",
      "copy\n"
     ]
    }
   ],
   "source": [
    "shop = ['pansal','pen','book','copy']\n",
    "print(shop[1])\n",
    "print(shop[3])"
   ]
  }
 ],
 "metadata": {
  "kernelspec": {
   "display_name": "Python 3",
   "language": "python",
   "name": "python3"
  },
  "language_info": {
   "codemirror_mode": {
    "name": "ipython",
    "version": 3
   },
   "file_extension": ".py",
   "mimetype": "text/x-python",
   "name": "python",
   "nbconvert_exporter": "python",
   "pygments_lexer": "ipython3",
   "version": "3.12.4"
  }
 },
 "nbformat": 4,
 "nbformat_minor": 2
}
