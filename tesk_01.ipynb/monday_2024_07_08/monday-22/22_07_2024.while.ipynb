{
 "cells": [
  {
   "cell_type": "code",
   "execution_count": 7,
   "metadata": {},
   "outputs": [
    {
     "name": "stdout",
     "output_type": "stream",
     "text": [
      "0\n",
      "1\n",
      "2\n",
      "3\n",
      "4\n",
      "5\n",
      "1\n",
      "2\n",
      "3\n",
      "4\n",
      "5\n"
     ]
    }
   ],
   "source": [
    "for x in range(6):\n",
    "    print(x)\n",
    "for x in range(1,6):\n",
    "    print(x)\n",
    "# for x in range(1,10,2):\n",
    "#     print(x)\n",
    "# for x in range(1,30,3):\n",
    "#     print(x)"
   ]
  },
  {
   "cell_type": "code",
   "execution_count": 16,
   "metadata": {},
   "outputs": [
    {
     "name": "stdout",
     "output_type": "stream",
     "text": [
      "10\n",
      "7\n",
      "4\n",
      "1\n",
      "end\n"
     ]
    }
   ],
   "source": [
    "count =10\n",
    "while count >0:\n",
    "    print(count)\n",
    "    count -=3\n",
    "print(\"end\")\n"
   ]
  },
  {
   "cell_type": "code",
   "execution_count": 1,
   "metadata": {},
   "outputs": [
    {
     "name": "stdout",
     "output_type": "stream",
     "text": [
      "5\n",
      "4\n",
      "3\n",
      "2\n",
      "1\n",
      "liftoff\n",
      "10\n",
      "8\n",
      "6\n",
      "4\n",
      "end\n"
     ]
    }
   ],
   "source": [
    "# Simple countdown from 5 to 1\n",
    "count = 5\n",
    "while count > 0:\n",
    "    print(count)\n",
    "    count -=1\n",
    "print(\"liftoff\")\n",
    "\n",
    "count  =10\n",
    "while count > 2:\n",
    "    print(count)\n",
    "    count -=2\n",
    "print(\"end\")\n"
   ]
  },
  {
   "cell_type": "code",
   "execution_count": 2,
   "metadata": {},
   "outputs": [
    {
     "name": "stdout",
     "output_type": "stream",
     "text": [
      "5\n",
      "4\n",
      "3\n",
      "2\n",
      "1\n",
      "liftoff\n",
      "50\n",
      "45\n",
      "40\n",
      "35\n",
      "30\n",
      "25\n",
      "20\n",
      "15\n",
      "10\n",
      "liftoff\n"
     ]
    }
   ],
   "source": [
    "count = 5 \n",
    "while count > 0:\n",
    "    print(count)\n",
    "    count -= 1\n",
    "print(\"liftoff\")\n",
    "count =50\n",
    "while count >5:\n",
    "    print(count)\n",
    "    count -=5\n",
    "print(\"liftoff\")"
   ]
  },
  {
   "cell_type": "code",
   "execution_count": 17,
   "metadata": {},
   "outputs": [
    {
     "name": "stdout",
     "output_type": "stream",
     "text": [
      "sum of number from 3 to 5: 6\n",
      "sum of number from 1 to 5: 14\n"
     ]
    }
   ],
   "source": [
    "num =3\n",
    "sum =0 \n",
    "while num <=5:\n",
    "    sum +=num \n",
    "    num +=1\n",
    "print(\"sum of number from 3 to 5:\", num)\n",
    "num =2 \n",
    "sum =0\n",
    "while num <=5:\n",
    "    sum +=num\n",
    "    num +=1\n",
    "print(\"sum of number from 1 to 5:\",sum)\n",
    "# num = 1\n",
    "# sum = 0\n",
    "# while num <= 5:\n",
    "#     sum += num\n",
    "#     num +=  1\n",
    "# print(\"sum of numbers from 1 to 5 :\", sum)\n",
    "\n",
    "# num = 1\n",
    "# sum = 0\n",
    "# while num <= 30:\n",
    "#     sum += num\n",
    "#     num += 1\n",
    "# print(\"sum of numbers from 1 to 20 :\", sum)"
   ]
  },
  {
   "cell_type": "code",
   "execution_count": 1,
   "metadata": {},
   "outputs": [
    {
     "name": "stdout",
     "output_type": "stream",
     "text": [
      "\n",
      "ali\n",
      "musa\n",
      "shahid\n",
      "\n",
      "\n",
      "\n",
      "end\n"
     ]
    }
   ],
   "source": [
    "# Prompt the user to enter a number until they enter a negative number\n",
    "# num = 0\n",
    "# while num >=0:\n",
    "#     num =int(input(\"please enter a number (negative number to stop): \"))\n",
    "#     if num >= 0:\n",
    "#         print(\"your entered \",num)\n",
    "# print(\"loop ended because you entered a negative number.\")\n",
    "\n",
    "    \n",
    "\n",
    "# num = 0 \n",
    "# while num >=0:\n",
    "#     num =int(input(\"please enter a number (negative number to stop):\"))\n",
    "#     if num >= 0:\n",
    "#         print(\"your entered \", num)\n",
    "# print(\"loop ended because you entered a negative number .\")\n",
    "# num =0 \n",
    "# while num >=2:\n",
    "#     num=int(input(\"enter a number (negative number.):\"))\n",
    "#     if num >=2:\n",
    "#         print(\"your entered \",num)\n",
    "# print(\"loop ended because you entered a negative number\")\n",
    "# name=\" \"\n",
    "# while name!=\"s\":\n",
    "#     name =input(\"please enter your good name. \")\n",
    "#     if name !=\"s\":\n",
    "#         print(\"my good name :\",name)\n",
    "# print(\"stop\")\n",
    "students =\" \"\n",
    "while students !=\"a\":\n",
    "    students=input(\"plese enter your students\")\n",
    "    if students !=\"a\":\n",
    "        print(students)\n",
    "print('end')"
   ]
  },
  {
   "cell_type": "code",
   "execution_count": 15,
   "metadata": {},
   "outputs": [
    {
     "name": "stdout",
     "output_type": "stream",
     "text": [
      "book\n",
      "copy\n",
      "pensal\n",
      "bolpan\n"
     ]
    }
   ],
   "source": [
    "# Iterate over a list using a while loop\n",
    "# fruits = [\"apple\", \"banana\", \"cherry\"]\n",
    "# index =0\n",
    "# while index < len(fruits ):\n",
    "#     print(\"fruits\", fruits[index])\n",
    "#     index +=1\n",
    "# students =['ali','musa','shahid','jawad','saad']\n",
    "# index=0\n",
    "# while index < len(students):\n",
    "#     print(students[index])\n",
    "#     index+=1\n",
    "\n",
    "shopes =['book','copy','pensal','bolpan']\n",
    "index =0\n",
    "while index < len(shopes):\n",
    "    print(shopes[index])\n",
    "    index +=1\n"
   ]
  },
  {
   "cell_type": "code",
   "execution_count": 5,
   "metadata": {},
   "outputs": [
    {
     "name": "stdout",
     "output_type": "stream",
     "text": [
      "you typed : shahid\n",
      "Jawad is student .\n"
     ]
    }
   ],
   "source": [
    "while students :\n",
    "    user_input =input(\"type 'shahid','ali','musa','jawad'to stop :\")\n",
    "    if user_input== \"jawad\":\n",
    "        print(\"Jawad is student .\")\n",
    "        break\n",
    "    print(\"you typed :\", user_input)\n",
    "\n",
    "    "
   ]
  },
  {
   "cell_type": "code",
   "execution_count": null,
   "metadata": {},
   "outputs": [],
   "source": []
  }
 ],
 "metadata": {
  "kernelspec": {
   "display_name": "Python 3",
   "language": "python",
   "name": "python3"
  },
  "language_info": {
   "codemirror_mode": {
    "name": "ipython",
    "version": 3
   },
   "file_extension": ".py",
   "mimetype": "text/x-python",
   "name": "python",
   "nbconvert_exporter": "python",
   "pygments_lexer": "ipython3",
   "version": "3.12.4"
  }
 },
 "nbformat": 4,
 "nbformat_minor": 2
}
