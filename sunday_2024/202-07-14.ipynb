{
 "cells": [
  {
   "cell_type": "code",
   "execution_count": 6,
   "metadata": {},
   "outputs": [
    {
     "name": "stdout",
     "output_type": "stream",
     "text": [
      "Hello Python Interpreter !\n",
      "HELLO PYTON WORLD !\n",
      "hello pyton world !\n"
     ]
    }
   ],
   "source": [
    "name=(\"hello python interpreter !\")\n",
    "print(name.title())\n",
    "message= (\"hello pyton world !\")\n",
    "print(message.upper())\n",
    "print(message.lower())"
   ]
  },
  {
   "cell_type": "code",
   "execution_count": 9,
   "metadata": {},
   "outputs": [
    {
     "name": "stdout",
     "output_type": "stream",
     "text": [
      "['trek', 'cannondale', 'redline', 'specialized']\n",
      "TREK\n"
     ]
    }
   ],
   "source": [
    "bicycles = ['trek', 'cannondale', 'redline', 'specialized']\n",
    "print(bicycles)\n",
    "print(bicycles[0].upper())"
   ]
  },
  {
   "cell_type": "code",
   "execution_count": 14,
   "metadata": {},
   "outputs": [
    {
     "name": "stdout",
     "output_type": "stream",
     "text": [
      "honda\n",
      "['honda', 'yamaha', 'suzuki']\n",
      "['honda', 'yamaha', 'suzuki', 'ducati']\n",
      "['ducati', 'honda', 'yamaha', 'suzuki', 'ducati']\n",
      "['honda', 'yamaha', 'suzuki', 'ducati']\n"
     ]
    }
   ],
   "source": [
    "motorcycles = ['honda', 'yamaha', 'suzuki']\n",
    "print(motorcycles[0])\n",
    "\n",
    "# motorcycles[0]='ducati'\n",
    "print(motorcycles)\n",
    "motorcycles.append('ducati')\n",
    "print(motorcycles)\n",
    "motorcycles.insert(0,'ducati')\n",
    "print(motorcycles)\n",
    "del motorcycles[0]\n",
    "print(motorcycles)"
   ]
  },
  {
   "cell_type": "code",
   "execution_count": 17,
   "metadata": {},
   "outputs": [
    {
     "name": "stdout",
     "output_type": "stream",
     "text": [
      "['bmw', 'audi', 'toyota', 'subaru']\n",
      "bmw\n",
      "['bmw', 'audi', 'toyota', 'subaru', 'mar']\n"
     ]
    }
   ],
   "source": [
    "care=['bmw', 'audi', 'toyota', 'subaru']\n",
    "print(care)\n",
    "print(care[0])\n",
    "care.append('mar')\n",
    "print(care)"
   ]
  },
  {
   "cell_type": "code",
   "execution_count": 21,
   "metadata": {},
   "outputs": [
    {
     "name": "stdout",
     "output_type": "stream",
     "text": [
      "ALICE, that was a great trick !\n",
      "alice\n",
      "i can't wait to see your next trick, ALICE.\n",
      " \n",
      "DAVID, that was a great trick !\n",
      "david\n",
      "i can't wait to see your next trick, DAVID.\n",
      " \n",
      "CAROLINA, that was a great trick !\n",
      "carolina\n",
      "i can't wait to see your next trick, CAROLINA.\n",
      " \n"
     ]
    }
   ],
   "source": [
    "messages =['alice', 'david', 'carolina']\n",
    "for message in messages:\n",
    "    print(f\"{message.upper()}, that was a great trick !\")\n",
    "    print(message)\n",
    "    print(f\"i can't wait to see your next trick, {message.upper()}.\\n \")"
   ]
  },
  {
   "cell_type": "code",
   "execution_count": 37,
   "metadata": {},
   "outputs": [
    {
     "name": "stdout",
     "output_type": "stream",
     "text": [
      "['charles', 'martina', 'michael', 'florence']\n",
      "CHARLES\n",
      "MARTINA\n",
      "MICHAEL\n",
      "FLORENCE\n"
     ]
    }
   ],
   "source": [
    "players = ['charles', 'martina', 'michael', 'florence', 'eli']\n",
    "print(players[0:4])\n",
    "for player in players[0:4]:\n",
    "    print(player.upper())\n"
   ]
  },
  {
   "cell_type": "code",
   "execution_count": 40,
   "metadata": {},
   "outputs": [
    {
     "name": "stdout",
     "output_type": "stream",
     "text": [
      "my favorite food are :\n",
      "['pizza', 'falafel', 'carrot cake']\n"
     ]
    }
   ],
   "source": [
    "my_food =['pizza', 'falafel','carrot cake']\n",
    "print(\"my favorite food are :\")\n",
    "print(my_food)"
   ]
  },
  {
   "cell_type": "code",
   "execution_count": 41,
   "metadata": {},
   "outputs": [
    {
     "name": "stdout",
     "output_type": "stream",
     "text": [
      "Audi\n",
      "BMW\n",
      "Subaru\n",
      "Toyota\n"
     ]
    }
   ],
   "source": [
    "cars = ['audi', 'bmw', 'subaru', 'toyota']\n",
    "for car in cars:\n",
    "    if car=='bmw':\n",
    "        print(car.upper())\n",
    "    else:\n",
    "        print(car.title())"
   ]
  }
 ],
 "metadata": {
  "kernelspec": {
   "display_name": "Python 3",
   "language": "python",
   "name": "python3"
  },
  "language_info": {
   "codemirror_mode": {
    "name": "ipython",
    "version": 3
   },
   "file_extension": ".py",
   "mimetype": "text/x-python",
   "name": "python",
   "nbconvert_exporter": "python",
   "pygments_lexer": "ipython3",
   "version": "3.12.4"
  }
 },
 "nbformat": 4,
 "nbformat_minor": 2
}
