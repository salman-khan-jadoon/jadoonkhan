{
 "cells": [
  {
   "cell_type": "markdown",
   "metadata": {},
   "source": [
    "# Create a list of your favorite fruits and print the list.\n",
    "\n",
    "# Add a new fruit to the end of the list and print the updated list.\n",
    "\n",
    "# Remove the second fruit from the list and print the updated list.\n"
   ]
  },
  {
   "cell_type": "code",
   "execution_count": 48,
   "metadata": {},
   "outputs": [
    {
     "name": "stdout",
     "output_type": "stream",
     "text": [
      "['apple', 'banana', 'orange']\n",
      "['mango', 'banana', 'orange']\n",
      "['apple', 'banana', 'orange', 'mango']\n",
      "['mango', 'apple', 'banana', 'orange']\n",
      "['banana', 'orange']\n"
     ]
    }
   ],
   "source": [
    "fruites_list =['apple','banana','orange']\n",
    "print(fruites_list)\n",
    "\n",
    "fruites_list =['apple','banana','orange']\n",
    "fruites_list[0]='mango'\n",
    "print(fruites_list)\n",
    "\n",
    "fruites_list =['apple','banana','orange']\n",
    "fruites_list.append('mango')\n",
    "print(fruites_list)\n",
    "\n",
    "\n",
    "fruites_list =['apple','banana','orange']\n",
    "fruites_list.insert(0,'mango')\n",
    "print(fruites_list)\n",
    "\n",
    "fruites_list =['apple','banana','orange']\n",
    "del fruites_list[0]\n",
    "print(fruites_list)\n"
   ]
  },
  {
   "cell_type": "markdown",
   "metadata": {},
   "source": [
    "# create a list of 5 numbers. Print the first and last elements of the list. \n",
    "#Print the second and fourth elements of the list."
   ]
  },
  {
   "cell_type": "code",
   "execution_count": 22,
   "metadata": {},
   "outputs": [
    {
     "name": "stdout",
     "output_type": "stream",
     "text": [
      "[11, 12, 13, 14, 15, 16, 17, 18, 19]\n",
      "11\n",
      "19\n",
      "12\n",
      "15\n"
     ]
    }
   ],
   "source": [
    "number_list = [11,12,13,14,15,16,17,18,19]\n",
    "print(number_list)\n",
    "\n",
    "number_list = [11,12,13,14,15,16,17,18,19]\n",
    "print(number_list[0])\n",
    "\n",
    "number_list = [11,12,13,14,15,16,17,18,19]\n",
    "print(number_list[-1])\n",
    "\n",
    "number_list = [11,12,13,14,15,16,17,18,19]\n",
    "\n",
    "print(number_list[1])\n",
    "print(number_list[4])"
   ]
  },
  {
   "cell_type": "markdown",
   "metadata": {},
   "source": [
    "#Create a list of 10 numbers. Print the first five elements using slicing.\n",
    "\n",
    "#Print the last three elements using slicing.\n",
    "\n",
    "#Print every second element from the list using slicing."
   ]
  },
  {
   "cell_type": "code",
   "execution_count": 47,
   "metadata": {},
   "outputs": [
    {
     "name": "stdout",
     "output_type": "stream",
     "text": [
      "first five element of list  [100, 200, 300, 400, 500]\n",
      "last three element of list [800, 900, 1000]\n",
      "every second element of list 200\n"
     ]
    }
   ],
   "source": [
    "number_list = [100,200,300,400,500,600,700,800,900,1000]\n",
    "first_five_elements =number_list[0:5]\n",
    "print(\"first five element of list \",first_five_elements )\n",
    "\n",
    "number_list = [100,200,300,400,500,600,700,800,900,1000]\n",
    "last_three_element = number_list[-3:]\n",
    "print(\"last three element of list\",last_three_element)\n",
    "\n",
    "number_list = [100,200,300,400,500,600,700,800,900,1000]\n",
    "every_seconde = number_list[1]\n",
    "print(\"every second element of list\", every_seconde)"
   ]
  },
  {
   "cell_type": "code",
   "execution_count": 3,
   "metadata": {},
   "outputs": [
    {
     "name": "stdout",
     "output_type": "stream",
     "text": [
      "[11, 12, 13, 14, 15, 16, 17, 18, 19]\n",
      "12\n",
      "19\n"
     ]
    }
   ],
   "source": [
    "number_list = [11,12,13,14,15,16,17,18,19]\n",
    "print(number_list)\n",
    "print(number_list[1])\n",
    "print(number_list[-1])"
   ]
  },
  {
   "cell_type": "code",
   "execution_count": 9,
   "metadata": {},
   "outputs": [
    {
     "name": "stdout",
     "output_type": "stream",
     "text": [
      "[100, 200, 300, 400, 500, 600, 700, 800, 900, 1000]\n",
      "[100, 200, 300, 400, 500]\n",
      "last three element of list [800, 900, 1000]\n"
     ]
    }
   ],
   "source": [
    "number_list = [100,200,300,400,500,600,700,800,900,1000]\n",
    "print(number_list)\n",
    "print(number_list[0:5])\n",
    "print(\"last three element of list\", number_list[-3:])"
   ]
  },
  {
   "cell_type": "code",
   "execution_count": 2,
   "metadata": {},
   "outputs": [
    {
     "name": "stdout",
     "output_type": "stream",
     "text": [
      "orignial position :5\n"
     ]
    }
   ],
   "source": [
    "alien_0 ={'x_position':5, 'y_position':25, 'speed':'medium'}\n",
    "print(f\"orignial position :{alien_0['x_position']}\")\n"
   ]
  },
  {
   "cell_type": "code",
   "execution_count": 5,
   "metadata": {},
   "outputs": [
    {
     "name": "stdout",
     "output_type": "stream",
     "text": [
      "{'name': 'jawad', 'age': 23, 'speed': 7}\n"
     ]
    }
   ],
   "source": [
    "name={'name':'jawad', 'age':23, 'speed':2}\n",
    "if name['speed']==0:\n",
    "    x_increment=1\n",
    "elif name ['speed']==2:\n",
    "    x_increment=5\n",
    "else:\n",
    "    x_increment=10\n",
    "name['speed']=name['speed']+x_increment\n",
    "print(name)\n"
   ]
  },
  {
   "cell_type": "code",
   "execution_count": 21,
   "metadata": {},
   "outputs": [
    {
     "name": "stdout",
     "output_type": "stream",
     "text": [
      "{'name': 'jawad', 'age': 24, 'speed': 12}\n"
     ]
    }
   ],
   "source": [
    "name = {'name':'jawad', 'age':24, 'speed':2}\n",
    "if name['speed']== 0:\n",
    "    x_increment = 2\n",
    "elif name['speed']== 3:\n",
    "    x_increment = 5\n",
    "else:\n",
    "    x_increment = 10\n",
    "name['speed']=name['speed']+x_increment\n",
    "print(name)\n",
    "\n",
    "\n",
    "\n",
    "\n"
   ]
  },
  {
   "cell_type": "code",
   "execution_count": 4,
   "metadata": {},
   "outputs": [
    {
     "name": "stdout",
     "output_type": "stream",
     "text": [
      "{'name': 'salman', 'age': 24, 'city': 'lahore'}\n",
      "lahore\n",
      "{'name': 'salman', 'age': 24, 'city': 'lahore', 'villagr': 'malik abad'}\n",
      "{'name': 'salman', 'age': 24, 'city': 'lahore'}\n"
     ]
    }
   ],
   "source": [
    "person = {'name':'salman', 'age':24, 'city':'lahore'}\n",
    "print(person)\n",
    "print(person['city'])\n",
    "person['villagr']=\"malik abad\"\n",
    "print(person)\n",
    "del person['villagr']\n",
    "print(person)\n"
   ]
  },
  {
   "cell_type": "code",
   "execution_count": 6,
   "metadata": {},
   "outputs": [
    {
     "name": "stdout",
     "output_type": "stream",
     "text": [
      "{'x_position': 0, 'y_position': 24, 'speed': 'slow'}\n",
      "{'x_position': 1, 'y_position': 24, 'speed': 'slow'}\n"
     ]
    }
   ],
   "source": [
    "alien_0={'x_position':0, 'y_position':24, 'speed':'slow'}\n",
    "print(alien_0)\n",
    "if alien_0['speed']=='slow':\n",
    "    x_increment=1\n",
    "elif alien_0['speed']=='medium':\n",
    "    x_increment=2\n",
    "else:\n",
    "    x_increment=3\n",
    "alien_0['x_position']=alien_0['x_position']+x_increment\n",
    "print(alien_0)"
   ]
  },
  {
   "cell_type": "code",
   "execution_count": 9,
   "metadata": {},
   "outputs": [
    {
     "name": "stdout",
     "output_type": "stream",
     "text": [
      "{'name': 'salman', 'age': 25, 'speed': 'slow'}\n"
     ]
    }
   ],
   "source": [
    "name={'name':'salman', 'age':24, 'speed':'slow'}\n",
    "if name['speed']=='slow':\n",
    "    x_incrememnt=1\n",
    "elif name['speed']=='medium':\n",
    "    x_incrememnt=2\n",
    "else:\n",
    "    x_incrememnt=3\n",
    "name['age']=name['age']+x_incrememnt\n",
    "print(name)"
   ]
  },
  {
   "cell_type": "code",
   "execution_count": 18,
   "metadata": {},
   "outputs": [
    {
     "name": "stdout",
     "output_type": "stream",
     "text": [
      "{'jen': 'python', 'sarah': 's', 'edward': 'rust', 'phil': 'python'}\n",
      "s\n"
     ]
    }
   ],
   "source": [
    "favorite_languages={\n",
    "    'jen':'python',\n",
    "    'sarah':'s',\n",
    "    'edward':'rust',\n",
    "    'phil':'python'\n",
    "}\n",
    "\n",
    "print(favorite_languages)\n",
    "print(favorite_languages['sarah'])"
   ]
  },
  {
   "cell_type": "code",
   "execution_count": 21,
   "metadata": {},
   "outputs": [
    {
     "name": "stdout",
     "output_type": "stream",
     "text": [
      "('jen', 'python')\n",
      "('sarah', 's')\n",
      "('edward', 'rust')\n",
      "('phil', 'python')\n",
      "jen\n",
      "sarah\n",
      "edward\n",
      "phil\n"
     ]
    }
   ],
   "source": [
    "favorite_languages={\n",
    "    'jen':'python',\n",
    "    'sarah':'s',\n",
    "    'edward':'rust',\n",
    "    'phil':'python'\n",
    "}\n",
    "for x in favorite_languages.items():\n",
    "    print(x)\n",
    "for key,y in favorite_languages.items():\n",
    "        print(key)"
   ]
  },
  {
   "cell_type": "code",
   "execution_count": 25,
   "metadata": {},
   "outputs": [
    {
     "name": "stdout",
     "output_type": "stream",
     "text": [
      "\n",
      "key :jen\n",
      "value :['python', 'rust']\n",
      "\n",
      "key :sarah\n",
      "value :['s']\n",
      "\n",
      "key :edward\n",
      "value :['rust', 'go']\n",
      "\n",
      "key :phil\n",
      "value :['python', 'computer']\n"
     ]
    }
   ],
   "source": [
    "favorite_languages={\n",
    "    'jen':['python', 'rust'],\n",
    "    'sarah':['s'],\n",
    "    'edward':['rust', 'go'],\n",
    "    'phil':['python','computer'],\n",
    "}\n",
    "for key,value in favorite_languages.items():\n",
    "    print(f\"\\nkey :{key}\")\n",
    "    print(f\"value :{value}\")"
   ]
  },
  {
   "cell_type": "code",
   "execution_count": 27,
   "metadata": {},
   "outputs": [
    {
     "name": "stdout",
     "output_type": "stream",
     "text": [
      "\n",
      "JEN favorite language are\n",
      "\tPython \n",
      "\tRust \n",
      "\n",
      "SARAH favorite language are\n",
      "\tS \n",
      "\n",
      "EDWARD favorite language are\n",
      "\tRust \n",
      "\tGo \n",
      "\n",
      "PHIL favorite language are\n",
      "\tPython \n",
      "\tComputer \n"
     ]
    }
   ],
   "source": [
    "avorite_languages={\n",
    "    'jen':['python', 'rust'],\n",
    "    'sarah':['s'],\n",
    "    'edward':['rust', 'go'],\n",
    "    'phil':['python','computer'],\n",
    "}\n",
    "for key,languages in favorite_languages.items():\n",
    "    print(f'\\n{key.upper()} favorite language are')\n",
    "    for language in languages:\n",
    "        print(f\"\\t{language.title()} \")\n"
   ]
  }
 ],
 "metadata": {
  "kernelspec": {
   "display_name": "Python 3",
   "language": "python",
   "name": "python3"
  },
  "language_info": {
   "codemirror_mode": {
    "name": "ipython",
    "version": 3
   },
   "file_extension": ".py",
   "mimetype": "text/x-python",
   "name": "python",
   "nbconvert_exporter": "python",
   "pygments_lexer": "ipython3",
   "version": "3.12.4"
  }
 },
 "nbformat": 4,
 "nbformat_minor": 2
}
