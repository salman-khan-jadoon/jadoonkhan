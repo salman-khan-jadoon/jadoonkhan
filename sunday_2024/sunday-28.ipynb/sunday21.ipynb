{
 "cells": [
  {
   "cell_type": "code",
   "execution_count": 13,
   "metadata": {},
   "outputs": [
    {
     "name": "stdout",
     "output_type": "stream",
     "text": [
      "Hello, Jawad Khan How Are You \n",
      "HELLO, JAWAD KHAN HOW ARE YOU \n",
      "hello, jawad khan how are you \n",
      "hello, jawad khan, how are you !\n",
      "Hello Jawad, Ali, Musa, Shahid, How Are You All !\n",
      "i wil teach insha allh english, computer,urdu, math, islamic ,the all subjects of class6 in jamia\n"
     ]
    }
   ],
   "source": [
    "def greet():\n",
    "    return\"hello, jawad khan how are you \"\n",
    "print(greet().title())\n",
    "print(greet().upper())\n",
    "print(greet().lower())\n",
    "\n",
    "def greet_user(name):\n",
    "    return  f\"hello, {name}, how are you !\" \n",
    "print(greet_user(\"jawad khan\"))\n",
    "\n",
    "def greet_user(names):\n",
    "    return f\"hello {names}, how are you all !\"\n",
    "print(greet_user('jawad, ali, musa, shahid').title())\n",
    "\n",
    "def class6(subjects):\n",
    "    return f\"i wil teach insha allh {subjects} ,the all subjects of class6 in jamia\"\n",
    "print(class6(\"english, computer,urdu, math, islamic\"))"
   ]
  },
  {
   "cell_type": "code",
   "execution_count": 16,
   "metadata": {},
   "outputs": [
    {
     "name": "stdout",
     "output_type": "stream",
     "text": [
      "143\n",
      "2.0\n",
      "528\n"
     ]
    }
   ],
   "source": [
    "# Function with multiple parameters\n",
    "def add_number(a,b):\n",
    "    return  a + b\n",
    "print(add_number(66,77))\n",
    "def add_number(a,b):\n",
    "        return a/b\n",
    "print(add_number(88,44))\n",
    "\n",
    "def add_number(a,b):\n",
    "      return a*b\n",
    "print(add_number(44,12))\n"
   ]
  },
  {
   "cell_type": "code",
   "execution_count": 18,
   "metadata": {},
   "outputs": [
    {
     "name": "stdout",
     "output_type": "stream",
     "text": [
      "hello guest what do you do\n",
      "Hello Jawad What Do You Do\n"
     ]
    }
   ],
   "source": [
    "# Function with default parameters\n",
    "def greet_user(name=\"guest\"):\n",
    "    return f\"hello {name} what do you do\"\n",
    "print(greet_user())\n",
    "print(greet_user(\"jawad\").title())\n",
    "\n",
    "\n"
   ]
  },
  {
   "cell_type": "markdown",
   "metadata": {},
   "source": [
    "def greet_users(names):\n",
    "    return f\"hello how  are  you {names}\"\n",
    "print(greet_users(\"jawad,ali, musa\"))"
   ]
  },
  {
   "cell_type": "code",
   "execution_count": null,
   "metadata": {},
   "outputs": [],
   "source": []
  },
  {
   "cell_type": "code",
   "execution_count": 40,
   "metadata": {},
   "outputs": [
    {
     "name": "stdout",
     "output_type": "stream",
     "text": [
      "hello how are you jawad ,ali, musa\n"
     ]
    }
   ],
   "source": [
    "def greet_users(names):\n",
    "    return f\"hello how are you {names}\"\n",
    "print(greet_users('jawad ,ali, musa'))"
   ]
  },
  {
   "cell_type": "code",
   "execution_count": 38,
   "metadata": {},
   "outputs": [
    {
     "name": "stdout",
     "output_type": "stream",
     "text": [
      "hello how are you jawad\n",
      "hello how are you ali\n",
      "hello how are you musa\n"
     ]
    }
   ],
   "source": [
    "def greet_users(*names):\n",
    "    for name in names:\n",
    "        print(f\"hello how are you {name}\")\n",
    "greet_users(\"jawad\",  \"ali\", \"musa\")"
   ]
  },
  {
   "cell_type": "code",
   "execution_count": 33,
   "metadata": {},
   "outputs": [
    {
     "name": "stdout",
     "output_type": "stream",
     "text": [
      "hello how are you, jawad!\n",
      "hello how are you, ali!\n",
      "hello how are you, musa!\n"
     ]
    }
   ],
   "source": [
    "# Function with variable-length arguments\n",
    "def greet_users(*names):\n",
    "    for name in names:\n",
    "        print(f\"hello how are you, {name}!\")\n",
    "greet_users(\"jawad\", \"ali\", \"musa\")\n"
   ]
  }
 ],
 "metadata": {
  "kernelspec": {
   "display_name": "Python 3",
   "language": "python",
   "name": "python3"
  },
  "language_info": {
   "codemirror_mode": {
    "name": "ipython",
    "version": 3
   },
   "file_extension": ".py",
   "mimetype": "text/x-python",
   "name": "python",
   "nbconvert_exporter": "python",
   "pygments_lexer": "ipython3",
   "version": "3.12.4"
  }
 },
 "nbformat": 4,
 "nbformat_minor": 2
}
