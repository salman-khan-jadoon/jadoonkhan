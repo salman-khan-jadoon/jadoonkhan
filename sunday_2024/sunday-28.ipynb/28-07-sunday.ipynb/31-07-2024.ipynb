{
 "cells": [
  {
   "cell_type": "markdown",
   "metadata": {},
   "source": []
  },
  {
   "cell_type": "code",
   "execution_count": 3,
   "metadata": {},
   "outputs": [
    {
     "ename": "TypeError",
     "evalue": "unhashable type: 'list'",
     "output_type": "error",
     "traceback": [
      "\u001b[1;31m---------------------------------------------------------------------------\u001b[0m",
      "\u001b[1;31mTypeError\u001b[0m                                 Traceback (most recent call last)",
      "Cell \u001b[1;32mIn[3], line 1\u001b[0m\n\u001b[1;32m----> 1\u001b[0m number_1\u001b[38;5;241m=\u001b[39m {\n\u001b[0;32m      2\u001b[0m [\u001b[38;5;241m1\u001b[39m ,\u001b[38;5;241m2\u001b[39m ,\u001b[38;5;241m3\u001b[39m],[\u001b[38;5;241m4\u001b[39m,\u001b[38;5;241m5\u001b[39m, \u001b[38;5;241m6\u001b[39m],[\u001b[38;5;241m7\u001b[39m, \u001b[38;5;241m8\u001b[39m,\u001b[38;5;241m9\u001b[39m]\n\u001b[0;32m      3\u001b[0m }\n\u001b[0;32m      4\u001b[0m number_2\u001b[38;5;241m=\u001b[39m{\n\u001b[0;32m      5\u001b[0m     [\u001b[38;5;241m5\u001b[39m,\u001b[38;5;241m6\u001b[39m,\u001b[38;5;241m7\u001b[39m,],[\u001b[38;5;241m8\u001b[39m,\u001b[38;5;241m9\u001b[39m,\u001b[38;5;241m10\u001b[39m],[\u001b[38;5;241m11\u001b[39m,\u001b[38;5;241m12\u001b[39m,\u001b[38;5;241m13\u001b[39m]\n\u001b[0;32m      6\u001b[0m }\n\u001b[0;32m      7\u001b[0m \u001b[38;5;28mprint\u001b[39m(number_1 \u001b[38;5;241m+\u001b[39m number_2)\n",
      "\u001b[1;31mTypeError\u001b[0m: unhashable type: 'list'"
     ]
    }
   ],
   "source": [
    "number_1= [ 1 ,2 ,3\n",
    "          4,5, 6\n",
    "         7, 8,9]\n",
    "number_2=[5,6,7\n",
    "         8,9,10\n",
    "         11,12,13]\n",
    "\n",
    "print(number_1 + number_2)\n",
    "\n",
    "# list_1=[1,2,3,4,5,6,7,8,9]\n",
    "# list_2=[5,6,7,8,9,10,11,12,13]\n",
    "# for a in \n",
    "\n"
   ]
  }
 ],
 "metadata": {
  "kernelspec": {
   "display_name": "Python 3",
   "language": "python",
   "name": "python3"
  },
  "language_info": {
   "codemirror_mode": {
    "name": "ipython",
    "version": 3
   },
   "file_extension": ".py",
   "mimetype": "text/x-python",
   "name": "python",
   "nbconvert_exporter": "python",
   "pygments_lexer": "ipython3",
   "version": "3.12.4"
  }
 },
 "nbformat": 4,
 "nbformat_minor": 2
}
