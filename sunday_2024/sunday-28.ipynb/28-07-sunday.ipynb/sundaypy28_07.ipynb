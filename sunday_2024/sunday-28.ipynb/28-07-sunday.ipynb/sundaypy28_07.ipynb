{
 "cells": [
  {
   "cell_type": "code",
   "execution_count": null,
   "metadata": {},
   "outputs": [],
   "source": [
    "#for a in range(8):\n",
    "#    print(a)\n",
    "# for a in range(-5,0):\n",
    "#     print(a)\n",
    "for a in range(30,50,2):\n",
    "     print(a)\n",
    "# for a in range(20,40,3):\n",
    "# print(a)\n",
    "\n",
    "for a in range(30,50,2):\n",
    "     print(a)"
   ]
  },
  {
   "cell_type": "code",
   "execution_count": null,
   "metadata": {},
   "outputs": [],
   "source": [
    "for a in range(30,50,2):\n",
    "   print(a)"
   ]
  },
  {
   "cell_type": "code",
   "execution_count": 3,
   "metadata": {},
   "outputs": [
    {
     "name": "stdout",
     "output_type": "stream",
     "text": [
      "9\n",
      "7\n",
      "5\n",
      "3\n",
      "1\n",
      "\n"
     ]
    }
   ],
   "source": [
    "# Simple countdown from 5 to 1\n",
    "# count=6\n",
    "# while count >=0:\n",
    "#     print(count)\n",
    "#     count -=1\n",
    "# print(\"end\")\n",
    "# count =7\n",
    "# while count >=0:\n",
    "#     print(count)\n",
    "#     count-=2\n",
    "# print(\"end\")\n",
    "count=9\n",
    "while count >=0:\n",
    "    print(count)\n",
    "    count -=2\n",
    "print()\n",
    "\n",
    "\n"
   ]
  },
  {
   "cell_type": "code",
   "execution_count": 9,
   "metadata": {},
   "outputs": [
    {
     "name": "stdout",
     "output_type": "stream",
     "text": [
      "2\n",
      "5\n",
      "9\n",
      "14\n",
      "20\n",
      "27\n",
      "35\n",
      "44\n",
      "54\n",
      "54\n"
     ]
    }
   ],
   "source": [
    "# Calculate the sum of numbers from 1 to 10\n",
    "# num=1\n",
    "# sum=0\n",
    "# range=10\n",
    "# while num <=range:\n",
    "#     sum += num\n",
    "#     num +=1\n",
    "#     print(f\"sum of numbers from 1to 10 is \",sum)\n",
    "# print(sum)\n",
    "num =2\n",
    "sum =0\n",
    "range=10\n",
    "while num <=range:\n",
    "    sum +=num \n",
    "    num +=1\n",
    "    print(sum)\n",
    "print(sum)\n"
   ]
  },
  {
   "cell_type": "code",
   "execution_count": 10,
   "metadata": {},
   "outputs": [
    {
     "name": "stdout",
     "output_type": "stream",
     "text": [
      "you entered a numbers  876543\n",
      "you entered a numbers  98765\n",
      "you entered a numbers  9876\n",
      "you entered a numbers  8765\n",
      "you entered a numbers  965567\n",
      "loop edded because you a negative number.\n"
     ]
    }
   ],
   "source": [
    "# Prompt the user to enter a number until they enter a negative number\n",
    "# num =0\n",
    "# while num >=0:\n",
    "#     num= int(input(\"please enter a numbers (negative numbers is stop):\"))\n",
    "#     if num >=0:\n",
    "\n",
    "#         print(\"your entered a numbers\", num)\n",
    "# print(\"loop edded because you a negative numbers.\")\n",
    "num = 0\n",
    "while num >=0:\n",
    "    num =int(input(\"please enter a numbers (negative numbers is stop):\"))\n",
    "    if num >=0:\n",
    "        print(\"you entered a numbers \",num)\n",
    "print(\"loop edded because you a negative number.\")"
   ]
  },
  {
   "cell_type": "code",
   "execution_count": 43,
   "metadata": {},
   "outputs": [
    {
     "name": "stdout",
     "output_type": "stream",
     "text": [
      "fruist apple\n",
      "fruist banana\n",
      "fruist oringa\n",
      "shop: book\n",
      "shop: copy\n",
      "shop: boll\n",
      "shop: pensal\n"
     ]
    }
   ],
   "source": [
    "# Iterate over a list using a while loop\n",
    "fruists=['apple','banana','oringa']\n",
    "index=0\n",
    "while index< len(fruists):\n",
    "    print(\"fruist\",fruists[index])\n",
    "    index +=1\n",
    "\n",
    "shops =['book','copy','boll','pensal']\n",
    "index=0\n",
    "while index < len(shops):\n",
    "    print(\"shop:\",shops[index])\n",
    "    index +=1\n"
   ]
  },
  {
   "cell_type": "code",
   "execution_count": 3,
   "metadata": {},
   "outputs": [
    {
     "name": "stdout",
     "output_type": "stream",
     "text": [
      "you typed said\n",
      "you typed jawad\n",
      "you typed salman\n",
      "you typed shahid\n",
      "Exiting the loop. \n"
     ]
    }
   ],
   "source": [
    "# Infinite loop that breaks when a condition is met\n",
    "while True:\n",
    "     user=input(\"please type 'exit' to stop:\")\n",
    "     if user == 'exit':\n",
    "        print(\"Exiting the loop. \")\n",
    "        break\n",
    "     print(\"you typed\",user)"
   ]
  },
  {
   "cell_type": "code",
   "execution_count": 12,
   "metadata": {},
   "outputs": [
    {
     "name": "stdout",
     "output_type": "stream",
     "text": [
      "5\n",
      "3\n",
      "1\n",
      "\n"
     ]
    }
   ],
   "source": [
    "# Simple countdown from 5 to 1\n",
    "# count = 5\n",
    "# while count > 0:\n",
    "#     print(count)\n",
    "#     count -= 1\n",
    "# print(\"Liftoff!\")\n",
    "\n",
    "# count =6\n",
    "# while count >=0:\n",
    "#     print(count)\n",
    "#     count -=1\n",
    "# print()\n",
    "count =5\n",
    "while count>=0:\n",
    "    print(count)\n",
    "    count-=2\n",
    "print()"
   ]
  },
  {
   "cell_type": "code",
   "execution_count": null,
   "metadata": {},
   "outputs": [],
   "source": [
    "# Calculate the sum of numbers from 1 to 10\n",
    "# num=1\n",
    "# sum=0\n",
    "# range=10\n",
    "# while num <=range:\n",
    "#     sum += num\n",
    "#     num +=1 \n",
    "#     print(f\"sun of numbers from 1 to{range} is\", sum)\n",
    "# print()\n",
    "num =1\n",
    "sum=0\n",
    "range=20\n",
    "while num <=range:\n",
    "    sum +=num \n",
    "    num +=2\n",
    "    print(f\"sum of numbers from a to {range} is \",sum)\n",
    "print(sum)\n"
   ]
  },
  {
   "cell_type": "code",
   "execution_count": null,
   "metadata": {},
   "outputs": [],
   "source": [
    "# Prompt the user to enter a number until they enter a negative number\n",
    "num=0\n",
    "while num>=0:\n",
    "    num=int(input(\"enter a numbers (nagetive number is stop)\"))\n",
    "    if num >=0:\n",
    "        print(\"your entered\",num)\n",
    "print(\"loop edded because you entered nagetive number \")"
   ]
  },
  {
   "cell_type": "code",
   "execution_count": null,
   "metadata": {},
   "outputs": [],
   "source": [
    "num=0\n",
    "while num>=0:\n",
    "    num=int(input(\"please enter a numbers (nagetive number to stop)\"))\n",
    "    if num >=0:\n",
    "        print(\"your entered \",num)\n",
    "print(\"loop added because you entered nagetive number\")"
   ]
  }
 ],
 "metadata": {
  "kernelspec": {
   "display_name": "Python 3",
   "language": "python",
   "name": "python3"
  },
  "language_info": {
   "codemirror_mode": {
    "name": "ipython",
    "version": 3
   },
   "file_extension": ".py",
   "mimetype": "text/x-python",
   "name": "python",
   "nbconvert_exporter": "python",
   "pygments_lexer": "ipython3",
   "version": "3.12.4"
  }
 },
 "nbformat": 4,
 "nbformat_minor": 2
}
