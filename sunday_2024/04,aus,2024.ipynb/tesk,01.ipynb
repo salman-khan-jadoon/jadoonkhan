{
 "cells": [
  {
   "cell_type": "code",
   "execution_count": 3,
   "metadata": {},
   "outputs": [
    {
     "name": "stdout",
     "output_type": "stream",
     "text": [
      "5\n",
      "5\n",
      "5\n",
      "1\n",
      "3\n",
      "2\n",
      "3\n",
      "5\n",
      "4\n"
     ]
    }
   ],
   "source": [
    "### Task1: Print 10 Different Values of Dice Roll Using a While Loop\n",
    "from random import randint\n",
    "counter_A=1\n",
    "while counter_A < 10:\n",
    "   num =randint(1, 6)\n",
    "   print(num)\n",
    "   counter_A += 1\n"
   ]
  },
  {
   "cell_type": "code",
   "execution_count": 8,
   "metadata": {},
   "outputs": [
    {
     "name": "stdout",
     "output_type": "stream",
     "text": [
      "the maximum number is 471 at postion2.\n"
     ]
    }
   ],
   "source": [
    "### Task2: Find the Maximum Number from given values in previous cell\n",
    "from random import randint\n",
    "number_1 = randint (1,1000)\n",
    "number_2 = randint(1,1000) \n",
    "number_3 = randint(1,1000)\n",
    "if number_1 >= number_2 and number_1 >=number_3:\n",
    "    max_num =number_1\n",
    "    postion =1\n",
    "elif number_2 >= number_1 and number_2 >=number_3:\n",
    "    max_num =number_2\n",
    "    postion =2\n",
    "else:\n",
    "    max_num =number_3\n",
    "    postion =3\n",
    "print(f\"the maximum number is {max_num} at postion{postion}.\")\n"
   ]
  },
  {
   "cell_type": "code",
   "execution_count": 7,
   "metadata": {},
   "outputs": [
    {
     "name": "stdout",
     "output_type": "stream",
     "text": [
      "the maximum number is (9, 333),at postion1.\n"
     ]
    }
   ],
   "source": [
    "from random import randint\n",
    "number_1 = randint(1,999)\n",
    "number_2 = randint(9,333)\n",
    "number_3 = randint(4,3333)\n",
    "if number_1 >= number_2 and number_1 >=number_3:\n",
    "    max_num =number_1\n",
    "    postion = 1\n",
    "elif number_2 >=number_1 and number_2 >= number_3:\n",
    "    max_num= number_2\n",
    "    postion -2\n",
    "else:\n",
    "    max_num =number_3\n",
    "    postion =3\n",
    "print(f\"the maximum number is {max_num},at postion{postion}.\")"
   ]
  },
  {
   "cell_type": "code",
   "execution_count": 7,
   "metadata": {},
   "outputs": [
    {
     "name": "stdout",
     "output_type": "stream",
     "text": [
      "multiplication table for (1, 100),from (1, 10) to (11, 20):\n"
     ]
    },
    {
     "ename": "TypeError",
     "evalue": "can't multiply sequence by non-int of type 'tuple'",
     "output_type": "error",
     "traceback": [
      "\u001b[1;31m---------------------------------------------------------------------------\u001b[0m",
      "\u001b[1;31mTypeError\u001b[0m                                 Traceback (most recent call last)",
      "Cell \u001b[1;32mIn[7], line 10\u001b[0m\n\u001b[0;32m      8\u001b[0m current \u001b[38;5;241m=\u001b[39m start\n\u001b[0;32m      9\u001b[0m \u001b[38;5;28;01mwhile\u001b[39;00m current \u001b[38;5;241m<\u001b[39m\u001b[38;5;241m=\u001b[39m end :\n\u001b[1;32m---> 10\u001b[0m     result \u001b[38;5;241m=\u001b[39m \u001b[43mtable_no\u001b[49m\u001b[43m \u001b[49m\u001b[38;5;241;43m*\u001b[39;49m\u001b[43m \u001b[49m\u001b[43mcurrent\u001b[49m\n\u001b[0;32m     11\u001b[0m     \u001b[38;5;28mprint\u001b[39m(\u001b[38;5;124mf\u001b[39m\u001b[38;5;124m\"\u001b[39m\u001b[38;5;132;01m{\u001b[39;00mtable_no\u001b[38;5;132;01m}\u001b[39;00m\u001b[38;5;124m x \u001b[39m\u001b[38;5;132;01m{\u001b[39;00mcurrent\u001b[38;5;132;01m}\u001b[39;00m\u001b[38;5;124m =\u001b[39m\u001b[38;5;132;01m{\u001b[39;00mresult\u001b[38;5;132;01m}\u001b[39;00m\u001b[38;5;124m\"\u001b[39m)\n\u001b[0;32m     12\u001b[0m     current \u001b[38;5;241m+\u001b[39m\u001b[38;5;241m=\u001b[39m \u001b[38;5;241m1\u001b[39m\n",
      "\u001b[1;31mTypeError\u001b[0m: can't multiply sequence by non-int of type 'tuple'"
     ]
    }
   ],
   "source": [
    "### Task5: Print Multiplication Table with Random Start and End Values\n",
    "table_no = (1,100)\n",
    "start =(1,10)\n",
    "end = (11,20)\n",
    "if end <=start:\n",
    "    end =start + 1\n",
    "print(f\"multiplication table for {table_no},from {start} to {end}:\")\n",
    "current = start\n",
    "while current <= end :\n",
    "    result = table_no * current\n",
    "    print(f\"{table_no} x {current} ={result}\")\n",
    "    current += 1"
   ]
  },
  {
   "cell_type": "code",
   "execution_count": null,
   "metadata": {},
   "outputs": [],
   "source": [
    "### Task3: Print Range of Numbers Between Two Random Integer\n",
    "from random import randint\n",
    "# number_1 =(1,100)\n",
    "# number_2 = (1,100)\n",
    "# print(f\"n1{number_1},n2{number_2},\")\n",
    "# start =min(number_1, number_2)\n",
    "# end =max(number_1,number_2)\n",
    "# current = start \n",
    "# while current <=end:\n",
    "#     print(current)\n",
    "#     current +=1\n",
    "\n",
    "nunmber_1= randint(1,100)\n",
    "number_2= randint(1,100)\n",
    "if number_1 >=number_2:\n",
    "    print(f\"number_1 is larger number\",number_1)\n",
    "elif number_1 <=number_2:\n",
    "    print(f\"number_1 is small number\",number_1)\n",
    "elif number_2 >= number_1:\n",
    "    print(f\"number_2 is larger number\",number_2)\n",
    "else:\n",
    "    print(f\"number_2 is small number\",number_2)\n"
   ]
  },
  {
   "cell_type": "code",
   "execution_count": 11,
   "metadata": {},
   "outputs": [
    {
     "ename": "TypeError",
     "evalue": "Random.randint() missing 1 required positional argument: 'b'",
     "output_type": "error",
     "traceback": [
      "\u001b[1;31m---------------------------------------------------------------------------\u001b[0m",
      "\u001b[1;31mTypeError\u001b[0m                                 Traceback (most recent call last)",
      "Cell \u001b[1;32mIn[11], line 3\u001b[0m\n\u001b[0;32m      1\u001b[0m \u001b[38;5;66;03m### Task4: Print Range of Numbers Between Two Random Integers in Ascending Order\u001b[39;00m\n\u001b[0;32m      2\u001b[0m \u001b[38;5;28;01mfrom\u001b[39;00m \u001b[38;5;21;01mrandom\u001b[39;00m \u001b[38;5;28;01mimport\u001b[39;00m randint\n\u001b[1;32m----> 3\u001b[0m number_1 \u001b[38;5;241m=\u001b[39m\u001b[43mrandint\u001b[49m\u001b[43m(\u001b[49m\u001b[38;5;241;43m58\u001b[39;49m\u001b[43m)\u001b[49m\n\u001b[0;32m      4\u001b[0m number_2 \u001b[38;5;241m=\u001b[39mrandint(\u001b[38;5;241m34\u001b[39m)\n\u001b[0;32m      5\u001b[0m \u001b[38;5;28mprint\u001b[39m(\u001b[38;5;124mf\u001b[39m\u001b[38;5;124m\"\u001b[39m\u001b[38;5;124mthe generated numbers :n1=\u001b[39m\u001b[38;5;132;01m{\u001b[39;00mnumber_1\u001b[38;5;132;01m}\u001b[39;00m\u001b[38;5;124m,n2=\u001b[39m\u001b[38;5;132;01m{\u001b[39;00mnumber_2\u001b[38;5;132;01m}\u001b[39;00m\u001b[38;5;124m\"\u001b[39m)\n",
      "\u001b[1;31mTypeError\u001b[0m: Random.randint() missing 1 required positional argument: 'b'"
     ]
    }
   ],
   "source": [
    "### Task4: Print Range of Numbers Between Two Random Integers in Ascending Order\n",
    "from random import randint\n",
    "number_1 =randint(58)\n",
    "number_2 =randint(34)\n",
    "print(f\"the generated numbers :n1={number_1},n2={number_2}\")\n",
    "if number_1 >= number_2:\n",
    "    number_1,number_2 =number_2,number_1\n",
    "current = number_1\n",
    "while current <= number_2:\n",
    "    print(current)\n",
    "    current +=1"
   ]
  }
 ],
 "metadata": {
  "kernelspec": {
   "display_name": "Python 3",
   "language": "python",
   "name": "python3"
  },
  "language_info": {
   "codemirror_mode": {
    "name": "ipython",
    "version": 3
   },
   "file_extension": ".py",
   "mimetype": "text/x-python",
   "name": "python",
   "nbconvert_exporter": "python",
   "pygments_lexer": "ipython3",
   "version": "3.12.4"
  }
 },
 "nbformat": 4,
 "nbformat_minor": 2
}
