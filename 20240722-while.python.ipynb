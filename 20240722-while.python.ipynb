{
 "cells": [
  {
   "cell_type": "code",
   "execution_count": 1,
   "metadata": {},
   "outputs": [
    {
     "name": "stdout",
     "output_type": "stream",
     "text": [
      "0\n",
      "1\n",
      "2\n",
      "3\n",
      "4\n",
      "5\n"
     ]
    }
   ],
   "source": [
    "for x in range(6):\n",
    "    print(x)"
   ]
  },
  {
   "cell_type": "code",
   "execution_count": 2,
   "metadata": {},
   "outputs": [
    {
     "name": "stdout",
     "output_type": "stream",
     "text": [
      "-5\n",
      "-4\n",
      "-3\n",
      "-2\n",
      "-1\n"
     ]
    }
   ],
   "source": [
    "\n",
    "for x in range (-5,0):\n",
    "    print(x)\n"
   ]
  },
  {
   "cell_type": "code",
   "execution_count": 3,
   "metadata": {},
   "outputs": [
    {
     "name": "stdout",
     "output_type": "stream",
     "text": [
      "1\n",
      "3\n",
      "5\n",
      "7\n",
      "9\n",
      "11\n",
      "13\n",
      "15\n",
      "17\n",
      "19\n"
     ]
    }
   ],
   "source": [
    "for x in range(1,20,2):\n",
    "    print(x)"
   ]
  },
  {
   "cell_type": "code",
   "execution_count": 4,
   "metadata": {},
   "outputs": [
    {
     "name": "stdout",
     "output_type": "stream",
     "text": [
      "1\n",
      "2\n",
      "3\n",
      "4\n",
      "5\n"
     ]
    }
   ],
   "source": [
    "for x in range(1,6):\n",
    "    print(x)"
   ]
  },
  {
   "cell_type": "markdown",
   "metadata": {},
   "source": [
    "### Todo do this task with while loop"
   ]
  },
  {
   "cell_type": "code",
   "execution_count": null,
   "metadata": {},
   "outputs": [],
   "source": [
    "# Simple countdown from 5 to 1\n",
    "count = 5\n",
    "while count > 0:\n",
    "    print(count)\n",
    "    count -= 1\n",
    "print(\"Liftoff!\")"
   ]
  },
  {
   "cell_type": "code",
   "execution_count": 6,
   "metadata": {},
   "outputs": [
    {
     "name": "stdout",
     "output_type": "stream",
     "text": [
      "Sum of numbers from 1 to 2 is: 3\n"
     ]
    }
   ],
   "source": [
    "# Calculate the sum of numbers from 1 to 10\n",
    "num = 1\n",
    "sum = 0\n",
    "range = 2\n",
    "while num <= range:\n",
    "    sum += num\n",
    "    #  print(sum)\n",
    "    num += 1\n",
    "print(f\"Sum of numbers from 1 to {range} is:\", sum)"
   ]
  },
  {
   "cell_type": "code",
   "execution_count": 3,
   "metadata": {},
   "outputs": [
    {
     "name": "stdout",
     "output_type": "stream",
     "text": [
      "Loop ended because you entered a negative number.\n"
     ]
    }
   ],
   "source": [
    "# Prompt the user to enter a number until they enter a negative number\n",
    "num = 0\n",
    "while num >= 0:\n",
    "    num = int(input(\"Enter a number (negative number to stop): \"))\n",
    "    if num >= 0:\n",
    "        print(\"You entered:\", num)\n",
    "print(\"Loop ended because you entered a negative number.\")\n"
   ]
  },
  {
   "cell_type": "code",
   "execution_count": 5,
   "metadata": {},
   "outputs": [
    {
     "name": "stdout",
     "output_type": "stream",
     "text": [
      "Fruit: apple\n",
      "Fruit: banana\n",
      "Fruit: cherry\n"
     ]
    }
   ],
   "source": [
    "# Iterate over a list using a while loop\n",
    "fruits = [\"apple\", \"banana\", \"cherry\"]\n",
    "index = 0\n",
    "while index < len(fruits):\n",
    "    print(\"Fruit:\", fruits[index])\n",
    "    index += 1\n"
   ]
  },
  {
   "cell_type": "code",
   "execution_count": 6,
   "metadata": {},
   "outputs": [
    {
     "name": "stdout",
     "output_type": "stream",
     "text": [
      "You typed: ali\n",
      "You typed: asd\n",
      "You typed: dfsd\n",
      "You typed: sdf\n",
      "You typed: sd\n",
      "You typed: ds\n",
      "You typed: fsd\n",
      "You typed: f\n",
      "You typed: sdaf\n",
      "You typed: ds\n",
      "You typed: Exit\n",
      "Exiting the loop.\n"
     ]
    }
   ],
   "source": [
    "# Infinite loop that breaks when a condition is met\n",
    "while True:\n",
    "    user_input = input(\"Type 'exit' to stop: \")\n",
    "    if user_input == 'exit':\n",
    "        print(\"Exiting the loop.\")\n",
    "        break\n",
    "    print(\"You typed:\", user_input)\n"
   ]
  },
  {
   "cell_type": "code",
   "execution_count": 1,
   "metadata": {},
   "outputs": [
    {
     "name": "stdout",
     "output_type": "stream",
     "text": [
      "Factorial is: 120\n"
     ]
    }
   ],
   "source": [
    "# Calculate the factorial of a number\n",
    "num = 5\n",
    "factorial = 1\n",
    "while num > 1:\n",
    "    factorial *= num\n",
    "    num -= 1\n",
    "print(\"Factorial is:\", factorial)\n"
   ]
  },
  {
   "cell_type": "code",
   "execution_count": null,
   "metadata": {},
   "outputs": [],
   "source": [
    "# Find prime numbers less than 20\n",
    "num = 2\n",
    "while num < 20:\n",
    "    is_prime = True\n",
    "    divisor = 2\n",
    "    while divisor <= num // 2:\n",
    "        if num % divisor == 0:\n",
    "            is_prime = False\n",
    "            break\n",
    "        divisor += 1\n",
    "    if is_prime:\n",
    "        print(num, \"is a prime number\")\n",
    "    num += 1\n"
   ]
  },
  {
   "cell_type": "markdown",
   "metadata": {},
   "source": [
    "# Nested Loop"
   ]
  },
  {
   "cell_type": "code",
   "execution_count": null,
   "metadata": {},
   "outputs": [],
   "source": [
    "# Print a 3x3 grid of asterisks\n",
    "for i in range(3):\n",
    "    for j in range(3):\n",
    "        print('*', end=' ')\n",
    "    print()\n"
   ]
  },
  {
   "cell_type": "code",
   "execution_count": null,
   "metadata": {},
   "outputs": [],
   "source": [
    "# Print a multiplication table from 1 to 5\n",
    "for i in range(1, 6):\n",
    "    for j in range(1, 6):\n",
    "        print(f'{i * j:2}', end=' ')\n",
    "    print()\n"
   ]
  },
  {
   "cell_type": "code",
   "execution_count": null,
   "metadata": {},
   "outputs": [],
   "source": [
    "# Print numbers in a pattern using nested while loops\n",
    "i = 1\n",
    "while i <= 3:\n",
    "    j = 1\n",
    "    while j <= 3:\n",
    "        print(i, j)\n",
    "        j += 1\n",
    "    i += 1\n"
   ]
  },
  {
   "cell_type": "code",
   "execution_count": null,
   "metadata": {},
   "outputs": [],
   "source": [
    "# Print a pyramid pattern\n",
    "rows = 5\n",
    "for i in range(1, rows + 1):\n",
    "    for j in range(rows - i):\n",
    "        print(' ', end='')\n",
    "    for k in range(2 * i - 1):\n",
    "        print('*', end='')\n",
    "    print()\n"
   ]
  },
  {
   "cell_type": "code",
   "execution_count": null,
   "metadata": {},
   "outputs": [],
   "source": [
    "# Find pairs of numbers that add up to 10\n",
    "numbers = [1, 2, 3, 7, 8, 9]\n",
    "\n",
    "for i in range(len(numbers)):\n",
    "    for j in range(i + 1, len(numbers)):\n",
    "        if numbers[i] + numbers[j] == 10:\n",
    "            print(f'Pair found: ({numbers[i]}, {numbers[j]})')\n"
   ]
  },
  {
   "cell_type": "code",
   "execution_count": null,
   "metadata": {},
   "outputs": [],
   "source": [
    "# Find all prime numbers between 2 and 20\n",
    "for num in range(2, 21):\n",
    "    is_prime = True\n",
    "    for i in range(2, num):\n",
    "        if num % i == 0:\n",
    "            is_prime = False\n",
    "            break\n",
    "    if is_prime:\n",
    "        print(num, \"is a prime number\")\n"
   ]
  },
  {
   "cell_type": "code",
   "execution_count": null,
   "metadata": {},
   "outputs": [],
   "source": [
    "# Print a complex number pattern\n",
    "n = 5\n",
    "for i in range(1, n + 1):\n",
    "    for j in range(1, n - i + 1):\n",
    "        print(' ', end=' ')\n",
    "    for k in range(1, i + 1):\n",
    "        print(k, end=' ')\n",
    "    for l in range(i - 1, 0, -1):\n",
    "        print(l, end=' ')\n",
    "    print()\n"
   ]
  },
  {
   "cell_type": "code",
   "execution_count": null,
   "metadata": {},
   "outputs": [],
   "source": []
  }
 ],
 "metadata": {
  "kernelspec": {
   "display_name": "Python 3",
   "language": "python",
   "name": "python3"
  },
  "language_info": {
   "codemirror_mode": {
    "name": "ipython",
    "version": 3
   },
   "file_extension": ".py",
   "mimetype": "text/x-python",
   "name": "python",
   "nbconvert_exporter": "python",
   "pygments_lexer": "ipython3",
   "version": "3.12.4"
  }
 },
 "nbformat": 4,
 "nbformat_minor": 2
}
