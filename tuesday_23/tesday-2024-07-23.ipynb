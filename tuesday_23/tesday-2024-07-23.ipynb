{
 "cells": [
  {
   "cell_type": "code",
   "execution_count": 4,
   "metadata": {},
   "outputs": [
    {
     "name": "stdout",
     "output_type": "stream",
     "text": [
      "1\n",
      " 2\n",
      "  3\n",
      "   4\n",
      "    5\n",
      "     6\n",
      "      7\n",
      "       8\n",
      "        9\n",
      "         10\n",
      "          11\n",
      "           12\n",
      "            13\n",
      "             14\n",
      "              15\n"
     ]
    }
   ],
   "source": [
    "def print_spaces(n):\n",
    "    for i in range(n):\n",
    "        print(end=' ')\n",
    "\n",
    "def main ():\n",
    "    for i in range(15):\n",
    "        print_spaces(i)\n",
    "        print(i+1)\n",
    "\n",
    "main()       \n",
    "\n"
   ]
  },
  {
   "cell_type": "code",
   "execution_count": null,
   "metadata": {},
   "outputs": [],
   "source": [
    "def print_spaces(n):\n",
    "    for i in range(n):\n",
    "        print(end='*')\n",
    "\n",
    "def main ():\n",
    "    for i in range(15):\n",
    "        print_spaces(i)\n",
    "        print(i+1)\n",
    "\n",
    "main()       \n",
    "\n"
   ]
  },
  {
   "cell_type": "code",
   "execution_count": 5,
   "metadata": {},
   "outputs": [
    {
     "name": "stdout",
     "output_type": "stream",
     "text": [
      " 1\n",
      "* 2\n",
      "** 3\n",
      "*** 4\n",
      "**** 5\n",
      "***** 6\n"
     ]
    }
   ],
   "source": [
    "for i in range(6): \n",
    "    space =i *\"*\"\n",
    "\n",
    "\n",
    "    i+=1\n",
    "    print(f\"{space} {i}\")\n"
   ]
  },
  {
   "cell_type": "code",
   "execution_count": 7,
   "metadata": {},
   "outputs": [
    {
     "name": "stdout",
     "output_type": "stream",
     "text": [
      "1\n",
      " 2\n",
      "  3\n",
      "   4\n",
      "    5\n"
     ]
    }
   ],
   "source": [
    "for i in range(5):\n",
    "    for j in range(i):\n",
    "        print(end=\" \")\n",
    "    print(i+1)"
   ]
  }
 ],
 "metadata": {
  "kernelspec": {
   "display_name": "Python 3",
   "language": "python",
   "name": "python3"
  },
  "language_info": {
   "codemirror_mode": {
    "name": "ipython",
    "version": 3
   },
   "file_extension": ".py",
   "mimetype": "text/x-python",
   "name": "python",
   "nbconvert_exporter": "python",
   "pygments_lexer": "ipython3",
   "version": "3.12.4"
  }
 },
 "nbformat": 4,
 "nbformat_minor": 2
}
