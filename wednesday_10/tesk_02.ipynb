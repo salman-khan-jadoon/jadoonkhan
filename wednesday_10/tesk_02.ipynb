{
 "cells": [
  {
   "cell_type": "code",
   "execution_count": 4,
   "metadata": {},
   "outputs": [
    {
     "name": "stdout",
     "output_type": "stream",
     "text": [
      "{'name': 'salman', 'age': 24, 'thsil': 'topi', 'dist': 'swabi'}\n",
      "swabi\n",
      "{'name': 'salman', 'age': 24, 'thsil': 'topi', 'dist': 'swabi', 'villge': 'malik abad'}\n",
      "{'name': 'salman', 'age': 24, 'thsil': 'topi', 'dist': 'swabi'}\n",
      "{'name': 'jawad khan', 'age': 24, 'thsil': 'topi', 'dist': 'swabi'}\n",
      "swabi\n",
      "{'name': 'jawad khan', 'age': 24, 'thsil': 'topi', 'dist': 'swabi', 'villge': 'malik abad'}\n",
      "{'name': 'jawad khan', 'age': 24, 'thsil': 'topi', 'dist': 'swabi'}\n"
     ]
    }
   ],
   "source": [
    "# Dictionary with initial values\n",
    "student = {'name':'salman', 'age':24, 'thsil':'topi',  'dist':'swabi'}\n",
    "print(student)\n",
    "print(student['dist'])\n",
    "\n",
    "student['villge']=\"malik abad\"\n",
    "print(student)\n",
    "\n",
    "del student['villge']\n",
    "print(student)\n",
    "\n",
    "student = {'name':'jawad khan', 'age':24, 'thsil':'topi',  'dist':'swabi'}\n",
    "print(student)\n",
    "print(student['dist'])\n",
    "student['villge']=\"malik abad\"\n",
    "print(student)\n",
    "del student['villge']\n",
    "print(student)\n",
    "\n",
    "          "
   ]
  },
  {
   "cell_type": "code",
   "execution_count": 7,
   "metadata": {},
   "outputs": [
    {
     "name": "stdout",
     "output_type": "stream",
     "text": [
      "{'color 1': 'blak', 'color 2': 'blue', 'color 3': 'green', 'color 4': 'red'}\n",
      "red\n",
      "{'color 1': 'blak', 'color 2': 'blue', 'color 3': 'green', 'color 4': 'red', 'points': 4}\n",
      "{'color 1': 'blak', 'color 2': 'blue', 'color 3': 'green', 'color 4': 'red'}\n"
     ]
    }
   ],
   "source": [
    "items = {'color 1':'blak', 'color 2':'blue', 'color 3':'green', 'color 4':'red'}\n",
    "print(items)\n",
    "print(items['color 4'])\n",
    "\n",
    "items['points']= 4\n",
    "print(items)\n",
    "\n",
    "del items['points']\n",
    "print(items)"
   ]
  },
  {
   "cell_type": "code",
   "execution_count": 8,
   "metadata": {},
   "outputs": [
    {
     "name": "stdout",
     "output_type": "stream",
     "text": [
      "\n",
      "key: uaername\n",
      "key: efermi\n",
      "\n",
      "key: firsst\n",
      "key: salman\n",
      "\n",
      "key: last\n",
      "key: khan\n"
     ]
    }
   ],
   "source": [
    "user_0 = {\n",
    "    'uaername':'efermi',\n",
    "    'firsst':'salman',\n",
    "    'last':'khan',\n",
    "}\n",
    "for key, value in user_0.items():\n",
    "    print(f\"\\nkey: {key}\")\n",
    "    print(f\"key: {value}\")\n",
    "\n",
    "\n",
    "\n",
    "\n",
    "\n"
   ]
  },
  {
   "cell_type": "code",
   "execution_count": 7,
   "metadata": {},
   "outputs": [
    {
     "name": "stdout",
     "output_type": "stream",
     "text": [
      "\n",
      "name|: class 6\n",
      "name: students 56\n",
      "\n",
      "name|: class 7\n",
      "name: students 44\n",
      "\n",
      "name|: class 8\n",
      "name: students 33\n",
      "\n",
      "name : class 5\n",
      "name : students 55\n",
      "\n",
      "name : class 7\n",
      "name : computer\n",
      "\n",
      "name : class 8\n",
      "name : math\n",
      "\n",
      "name : class 4\n",
      "name : urdu\n",
      "\n",
      "name : class 6\n",
      "name : students 44\n",
      "\n",
      "name : class 7\n",
      "name : computer\n",
      "\n",
      "name : class 8\n",
      "name : math\n",
      "\n",
      "name : class 4\n",
      "name : urdu\n",
      "\n",
      "name : class 7\n",
      "name : students 33\n",
      "\n",
      "name : class 7\n",
      "name : computer\n",
      "\n",
      "name : class 8\n",
      "name : math\n",
      "\n",
      "name : class 4\n",
      "name : urdu\n"
     ]
    }
   ],
   "source": [
    "school  = {\n",
    "    'class 6':'students 56',\n",
    "    'class 7':'students 44',\n",
    "    'class 8':'students 33',\n",
    "}\n",
    "for name, value in school.items():\n",
    "    print(f\"\\nname|: {name}\")\n",
    "    print(f\"name: {value}\")\n",
    "\n",
    "school={\n",
    "    'class 5': 'students 55',\n",
    "    'class 6': 'students 44',\n",
    "    'class 7': 'students 33',\n",
    "}\n",
    "for name,value in school.items():\n",
    "    print(f\"\\nname : {name}\")\n",
    "    print(f\"name : {value}\")\n",
    "\n",
    "    school_2 ={\n",
    "        'class 7':'computer',\n",
    "        'class 8':'math',\n",
    "        'class 4':'urdu',\n",
    "    }\n",
    "    for name, value in school_2.items():\n",
    "        print(f\"\\nname : {name}\")\n",
    "        print(f\"name : {value}\")\n",
    "\n"
   ]
  },
  {
   "cell_type": "code",
   "execution_count": 15,
   "metadata": {},
   "outputs": [
    {
     "name": "stdout",
     "output_type": "stream",
     "text": [
      "\n",
      "class 6 ibn_e_umer\n",
      "\tpassed 50\n",
      "\tfailed 6\n",
      "\n",
      "class 7 ibn_e_umer\n",
      "\tpassed 40\n",
      "\tfailed 4\n",
      "\n",
      "class 8 ibn_e_umer\n",
      "\tpassed 29\n",
      "\tfailed 4\n",
      "\n",
      "name student\n",
      "\tsalman khan\n",
      "\tjadoon\n"
     ]
    }
   ],
   "source": [
    "ibn_e_umer ={\n",
    "     'class 6':['passed 50','failed 6'],\n",
    "     'class 7':['passed 40','failed 4'],\n",
    "     'class 8':['passed 29','failed 4'],\n",
    " }\n",
    "for name,values in ibn_e_umer.items():\n",
    "     print(f\"\\n{name} ibn_e_umer\")\n",
    "     for value in values:\n",
    "         print(f\"\\t{value}\")\n",
    "\n",
    "student={\n",
    "    'name':['muhammad', 'jawad'],\n",
    "    'name':['amin', 'allih'],\n",
    "    'name':['salman khan', 'jadoon'],\n",
    "}\n",
    "for name,values in student.items():\n",
    "    print(f\"\\n{name} student\")\n",
    "    for value in values:\n",
    "        print(f\"\\t{value}\")"
   ]
  }
 ],
 "metadata": {
  "kernelspec": {
   "display_name": "Python 3",
   "language": "python",
   "name": "python3"
  },
  "language_info": {
   "codemirror_mode": {
    "name": "ipython",
    "version": 3
   },
   "file_extension": ".py",
   "mimetype": "text/x-python",
   "name": "python",
   "nbconvert_exporter": "python",
   "pygments_lexer": "ipython3",
   "version": "3.12.4"
  }
 },
 "nbformat": 4,
 "nbformat_minor": 2
}
