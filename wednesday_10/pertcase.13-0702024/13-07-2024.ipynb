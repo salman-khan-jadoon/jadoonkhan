{
 "cells": [
  {
   "cell_type": "code",
   "execution_count": 1,
   "metadata": {},
   "outputs": [
    {
     "name": "stdout",
     "output_type": "stream",
     "text": [
      "33 is odd number\n"
     ]
    }
   ],
   "source": [
    "number =int(input(\"enter the number\"))\n",
    "if number % 2 ==0:\n",
    "    print(f\"{number} is even number \")\n",
    "else:\n",
    "    print(f\"{number} is odd number\")"
   ]
  },
  {
   "cell_type": "code",
   "execution_count": 2,
   "metadata": {},
   "outputs": [
    {
     "name": "stdout",
     "output_type": "stream",
     "text": [
      "24 is even number\n"
     ]
    }
   ],
   "source": [
    "number = int(input(\"please enter number\"))\n",
    "if number %2==0:\n",
    "    print(f\"{number} is even number\")\n",
    "else:\n",
    "    print(f\"{number} is odd number\")"
   ]
  },
  {
   "cell_type": "code",
   "execution_count": 25,
   "metadata": {},
   "outputs": [
    {
     "name": "stdout",
     "output_type": "stream",
     "text": [
      "total even number : 6\n",
      "total  odd number : 7\n",
      "[22, 44, 34, 54, 436, 452]\n",
      "[33, 53, 45, 2345, 33, 331, 11]\n"
     ]
    }
   ],
   "source": [
    "numbers = [22,44,33,53,34,45,54,436,452,2345,33,331,11]\n",
    "even=[]\n",
    "odd=[]\n",
    "for number in numbers:\n",
    "    if number % 2==0:\n",
    "        even.append(number)\n",
    "    else:\n",
    "        odd.append(number)\n",
    "print(f\"total even number : {len(even)}\")\n",
    "print(f\"total  odd number : {len(odd)}\")\n",
    "print(even)\n",
    "print(odd)"
   ]
  },
  {
   "cell_type": "code",
   "execution_count": 26,
   "metadata": {},
   "outputs": [
    {
     "name": "stdout",
     "output_type": "stream",
     "text": [
      "[22, 44, 34, 54, 436, 452]\n",
      "[33, 53, 45, 2345, 33, 331]\n"
     ]
    }
   ],
   "source": [
    "numbers =[22,44,33,53,34,45,54,436,452,2345,33,331]\n",
    "even=[]\n",
    "odd=[]\n",
    "for number in numbers :\n",
    "    if number%2==0:\n",
    "        even.append(number)\n",
    "    else:\n",
    "        odd.append(number)\n",
    "print(even)\n",
    "print(odd)\n",
    "        "
   ]
  },
  {
   "cell_type": "code",
   "execution_count": 30,
   "metadata": {},
   "outputs": [
    {
     "name": "stdout",
     "output_type": "stream",
     "text": [
      "it is cold 15\n"
     ]
    }
   ],
   "source": [
    "temperatures =int(input(\"please enter the temperatures\"))\n",
    "if temperatures <=0:\n",
    "    print(\"it is freezing\", temperatures)\n",
    "\n",
    "elif temperatures >=0 and temperatures <=15:\n",
    "    print(\"it is cold\", temperatures)\n"
   ]
  },
  {
   "cell_type": "code",
   "execution_count": 24,
   "metadata": {},
   "outputs": [
    {
     "name": "stdout",
     "output_type": "stream",
     "text": [
      "total number of even : 7\n",
      "total number of number : 5\n",
      "[22, 44, 66, 88, 100, 2, 34]\n",
      "[33, 55, 77, 99, 65]\n"
     ]
    }
   ],
   "source": [
    "\n",
    "numbers = [22,33,44,55,66,77,88,99,100,2,34,65]\n",
    "\n",
    "even=[]\n",
    "odd=[]\n",
    "for number in numbers :\n",
    "    if number %2==0:\n",
    "        even.append(number)\n",
    "    else:\n",
    "        odd.append(number)\n",
    "print(f\"total number of even : {len(even)}\")\n",
    "print(f\"total number of number : {len(odd)}\")\n",
    "print(even)\n",
    "print(odd)\n",
    "\n",
    "\n",
    "\n",
    "\n",
    "\n"
   ]
  },
  {
   "cell_type": "code",
   "execution_count": 39,
   "metadata": {},
   "outputs": [
    {
     "name": "stdout",
     "output_type": "stream",
     "text": [
      "['mango', 'apple', 'orange', 'banana']\n",
      "['apple', 'orange', 'banana']\n"
     ]
    }
   ],
   "source": [
    "\n",
    "my_favorite_fruits = ['apple','orange', 'banana' ]\n",
    "# print(my_favorite_fruits)\n",
    "\n",
    "# my_favorite_fruits[0]='mango'\n",
    "# print(my_favorite_fruits)\n",
    "\n",
    "# my_favorite_fruits.append('mango')\n",
    "# print(my_favorite_fruits)\n",
    "\n",
    "my_favorite_fruits.insert(0,'mango')\n",
    "print(my_favorite_fruits)\n",
    "\n",
    "del my_favorite_fruits[0]\n",
    "print(my_favorite_fruits)\n",
    "\n",
    "\n",
    "\n",
    "\n",
    "\n",
    "\n",
    "\n"
   ]
  }
 ],
 "metadata": {
  "kernelspec": {
   "display_name": "Python 3",
   "language": "python",
   "name": "python3"
  },
  "language_info": {
   "codemirror_mode": {
    "name": "ipython",
    "version": 3
   },
   "file_extension": ".py",
   "mimetype": "text/x-python",
   "name": "python",
   "nbconvert_exporter": "python",
   "pygments_lexer": "ipython3",
   "version": "3.12.4"
  }
 },
 "nbformat": 4,
 "nbformat_minor": 2
}
