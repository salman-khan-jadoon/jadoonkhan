{
 "cells": [
  {
   "cell_type": "code",
   "execution_count": null,
   "metadata": {},
   "outputs": [],
   "source": []
  },
  {
   "cell_type": "markdown",
   "metadata": {},
   "source": [
    "# Dictionary with initial values"
   ]
  },
  {
   "cell_type": "code",
   "execution_count": 5,
   "metadata": {},
   "outputs": [
    {
     "name": "stdout",
     "output_type": "stream",
     "text": [
      "{'name': 'musa', 'age': 24, 'city': 'lahore'}\n",
      "24\n",
      "{'name': 'musa', 'age': 24, 'city': 'lahore', 'role': 'student'}\n",
      "{'name': 'musa', 'city': 'lahore', 'role': 'student'}\n"
     ]
    }
   ],
   "source": [
    "person = {'name': 'musa', 'age': 24,  'city': 'lahore'}\n",
    "print(person)\n",
    "\n",
    "person = {'name': 'musa', 'age': 24,  'city': 'lahore'}\n",
    "print(person['age'])\n",
    "\n",
    "\n",
    "person ['role'] = \"student\"\n",
    "print(person)\n",
    "\n",
    "\n",
    "del person['age']\n",
    "print( person)\n",
    "\n"
   ]
  },
  {
   "cell_type": "code",
   "execution_count": 9,
   "metadata": {},
   "outputs": [
    {
     "name": "stdout",
     "output_type": "stream",
     "text": [
      "{'name': 'salman', 'age': 24, 'city': 'kpk', 'thsil': 'jadoon'}\n",
      "jadoon\n",
      "{'name': 'salman', 'age': 24, 'city': 'kpk', 'thsil': 'jadoon', 'Role': 'student of jamia asharifa lahore '}\n",
      "{'name': 'salman', 'age': 24, 'city': 'kpk', 'Role': 'student of jamia asharifa lahore '}\n"
     ]
    }
   ],
   "source": [
    "person = {'name':'salman', 'age': 24, 'city':'kpk', 'thsil':'jadoon'}\n",
    "print(person)\n",
    "\n",
    "person = {'name':'salman', 'age': 24, 'city':'kpk', 'thsil':'jadoon'}\n",
    "print(person['thsil'])\n",
    "\n",
    "person ['Role'] = \"student of jamia asharifa lahore \"\n",
    "print(person)\n",
    "\n",
    "del person ['thsil']\n",
    "print(person)"
   ]
  },
  {
   "cell_type": "code",
   "execution_count": 13,
   "metadata": {},
   "outputs": [
    {
     "name": "stdout",
     "output_type": "stream",
     "text": [
      "{'name': 'salman', 'age': 24, 'city': 'kpk', 'thsil': 'jadoon', 'my friend': 'amin'}\n",
      "amin\n",
      "{'name': 'salman', 'age': 24, 'city': 'kpk', 'thsil': 'jadoon', 'my friend': 'amin', 'Role': 'student of jamia asharifa lahore '}\n",
      "{'name': 'salman', 'city': 'kpk', 'thsil': 'jadoon', 'my friend': 'amin', 'Role': 'student of jamia asharifa lahore '}\n"
     ]
    }
   ],
   "source": [
    "person = {'name':'salman', 'age': 24, 'city':'kpk', 'thsil':'jadoon',  'my friend': 'amin'}\n",
    "print(person)\n",
    "\n",
    "person = {'name':'salman', 'age': 24, 'city':'kpk', 'thsil':'jadoon',  'my friend': 'amin'}\n",
    "print(person['my friend'])\n",
    "\n",
    "person ['Role'] = \"student of jamia asharifa lahore \"\n",
    "print(person)\n",
    "\n",
    "del person['age']\n",
    "print(person)"
   ]
  },
  {
   "cell_type": "code",
   "execution_count": 20,
   "metadata": {},
   "outputs": [
    {
     "name": "stdout",
     "output_type": "stream",
     "text": [
      "{'color': 'green', 'points': 5}\n",
      "green\n",
      "5\n",
      "{'color': 'green', 'points': 5, 'mykey': 'new vlue '}\n",
      "{'color': 'green', 'points': 5, 'mykey': 'new vlue ', 'x_position': 10, 'y_position': 35}\n"
     ]
    }
   ],
   "source": [
    "alien_0 = {'color': 'green', 'points': 5}\n",
    "print(alien_0)\n",
    "print(alien_0['color'])\n",
    "print(alien_0['points'])\n",
    "# del alien_0['color']\n",
    "# print(alien_0)\n",
    "\n",
    "\n",
    "alien_0['mykey'] = \"new vlue \"\n",
    "print(alien_0)\n",
    "\n",
    "alien_0['x_position'] =10\n",
    "alien_0['y_position'] =35\n",
    "print(alien_0)"
   ]
  },
  {
   "cell_type": "markdown",
   "metadata": {},
   "source": [
    "### Adding more attributes"
   ]
  },
  {
   "cell_type": "code",
   "execution_count": 3,
   "metadata": {},
   "outputs": [
    {
     "name": "stdout",
     "output_type": "stream",
     "text": [
      "Original position:  slow\n",
      "original position:  {'x_position': 33, 'y_position': 55, 'speed': 'slow'}\n"
     ]
    }
   ],
   "source": [
    "alien_0  ={'x_position': 33,'y_position':55, 'speed':'slow'}\n",
    "print(f\"Original position:  {alien_0['speed']}\")\n",
    "print(f\"original position:  {alien_0}\")"
   ]
  },
  {
   "cell_type": "code",
   "execution_count": 5,
   "metadata": {},
   "outputs": [
    {
     "name": "stdout",
     "output_type": "stream",
     "text": [
      "\n",
      "Jen's favorite languages are:\n",
      "\tPython\n",
      "\tRust\n",
      "\n",
      "Sarah's favorite languages are:\n",
      "\tC\n",
      "\n",
      "Edward's favorite languages are:\n",
      "\tRust\n",
      "\tGo\n",
      "\n",
      "Phil's favorite languages are:\n",
      "\tPython\n",
      "\tHaskell\n"
     ]
    }
   ],
   "source": [
    "favorite_languages = {\n",
    "      'jen': ['python', 'rust'],\n",
    "      'sarah': ['c'],\n",
    "      'edward': ['rust', 'go'],\n",
    "      'phil': ['python', 'haskell'],\n",
    "      }\n",
    "\n",
    "for name, languages in favorite_languages.items():\n",
    "    print(f\"\\n{name.title()}'s favorite languages are:\")\n",
    "    for language in languages:\n",
    "        print(f\"\\t{language.title()}\")"
   ]
  },
  {
   "cell_type": "code",
   "execution_count": 4,
   "metadata": {},
   "outputs": [
    {
     "name": "stdout",
     "output_type": "stream",
     "text": [
      "\n",
      "JEN my favorite languages are :\n",
      "\tPyton\n",
      "\tRust\n",
      "\n",
      "SARAH my favorite languages are :\n",
      "\tS\n",
      "\n",
      "EDWAARD my favorite languages are :\n",
      "\tRust\n",
      "\tGo\n",
      "\n",
      "PHIL my favorite languages are :\n",
      "\tPyton\n",
      "\tJaskell\n"
     ]
    }
   ],
   "source": [
    "\n",
    "favorite_languages = {\n",
    "    'jen': ['pyton', 'rust'],\n",
    "    'sarah': ['s'],\n",
    "     'edwaard': ['rust','go'],\n",
    "    'phil': ['pyton', 'jaskell'],\n",
    "}\n",
    "for name, languages in favorite_languages.items():\n",
    "    print(f\"\\n{name.upper()} my favorite languages are :\")\n",
    "    for language in languages:\n",
    "        print(f\"\\t{language.title()}\")\n",
    "\n",
    "\n"
   ]
  },
  {
   "cell_type": "code",
   "execution_count": 15,
   "metadata": {},
   "outputs": [
    {
     "name": "stdout",
     "output_type": "stream",
     "text": [
      "\n",
      "name: aeinstein\n",
      "\tfull name : JAWAD KHAN\n",
      "\tLocation : Lahore\n",
      "\n",
      "name: mcurie\n",
      "\tfull name : MARIE CURIE\n",
      "\tLocation : Parice\n"
     ]
    }
   ],
   "source": [
    "users = {\n",
    "    'aeinstein':{\n",
    "        'first': \"jawad\",\n",
    "        'last': \"khan\",\n",
    "        'location': \"lahore\"\n",
    "    },\n",
    "    'mcurie':{\n",
    "        'first':'marie',\n",
    "        'last': 'curie',\n",
    "        'location': 'parice',\n",
    "    },\n",
    "\n",
    "}\n",
    "for name ,user_info in users.items():\n",
    "    print(f\"\\nname: {name}\")\n",
    "    full_name= f\"{user_info['first']} {user_info['last']}\"\n",
    "    location = user_info['location']\n",
    "\n",
    "    print(f\"\\tfull name : {full_name.upper()}\")\n",
    "    print(f\"\\tLocation : {location.title()}\")\n",
    "\n",
    "\n",
    "\n",
    "\n",
    "\n",
    "\n",
    "\n"
   ]
  }
 ],
 "metadata": {
  "kernelspec": {
   "display_name": "Python 3",
   "language": "python",
   "name": "python3"
  },
  "language_info": {
   "codemirror_mode": {
    "name": "ipython",
    "version": 3
   },
   "file_extension": ".py",
   "mimetype": "text/x-python",
   "name": "python",
   "nbconvert_exporter": "python",
   "pygments_lexer": "ipython3",
   "version": "3.12.4"
  }
 },
 "nbformat": 4,
 "nbformat_minor": 2
}
